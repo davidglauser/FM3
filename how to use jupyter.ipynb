{
 "cells": [
  {
   "cell_type": "markdown",
   "metadata": {},
   "source": [
    "## Verwendung von Jupyter Lab\n",
    "\n",
    "Dieses `Juypter Notebook` ist ein Beispiel zur Anrwendung von `Stata` innerhalb der Jupyter Umgebung unter der Verwendung des `stata_kernel`.\n",
    "\n",
    "Für eine detaillierte Dokumentation - inklusive Installationsanleitung - siehe https://kylebarron.dev/stata_kernel/."
   ]
  },
  {
   "cell_type": "markdown",
   "metadata": {},
   "source": [
    "## Einleitung\n",
    "\n",
    "Jupyter Notebook ist ein File-format, das interaktives codieren von text, code und Ergebnissen in einem Dokument erlaubt. Erstellte Files (mit der Endung `.ipynb`) können geteilt werden. Verfügen andere Personen ebenfalls über eine Installation von Jupyter, dann sind nicht nur die Ergebnisse sichtbar, ohne dass der Code ausgeführt wird, sondern der Code innerhalb des Dokuments kann erneut ausgeführt und bearbeitet werden.\n",
    "\n",
    "Jupyter selbst ist sprachunabhängig, d.h. es erlaubt das Schreiben von Code in jeder Sprache. Diese Dokument basier auf einer Vorlage von Kyle Baron und verwendet Code der Statistik-Software Stata, aber Jupyter kann auch mit den Code anderer Sprachen wie [Python](https://www.python.org/), [R](https://irkernel.github.io/), [Julia](https://github.com/JuliaLang/IJulia.jl), [Matlab](https://github.com/calysto/matlab_kernel), oder [SAS](https://github.com/sassoftware/sas_kernel) verwendet werden.\n",
    "\n",
    "Jupyter ist einfach anzuwenden, weil für den normalen Gebrauch nur wenige `Markdown`-Befehle zu verwenden sind, die in verschiedenen Programmen verwendet werden können. Markdown-Syntax wird verwendet, um HTML-Code aus Textdokumenten zu generieren. Für eine Übersicht der wichtigsten Befehle siehe: [Markdown-Syntax](https://www.markdownguide.org/basic-syntax/).\n",
    "\n",
    "\n",
    "## Voraussetzungen\n",
    "Folgende Software muss installiert sein, damit Jupyter Lab mit Stata verwendet wertden kann\n",
    "\n",
    "1. Stata 13+\n",
    "2. Python 3.5+\n",
    "3. aktuelle LaTex-Distribution zur Erzeugung von PDF-Files\n",
    "\n",
    "- Python kann über [Anaconda3](https://www.anaconda.com/distribution/) installiert werden.\n",
    "- Die Windows-spezifischen Schritte zur Konfiguration von Stata sind hier erläutert: https://www.stata.com/automation/#install\n",
    "- Anschliessend ist vom Startmenü `Anaconda Powershell Prompt` zu öffnen und folgender Code einzugeben:\n",
    "    - pip install stata_kernel\n",
    "    - python -m stata_kernel.install\n",
    "- Stata Syntax-Highlighting in Jupyter Lab / Notebook wird installiert mit:\n",
    "    - conda install -c conda-forge nodejs -y\n",
    "    - jupyter labextension install jupyterlab-stata-highlight\n",
    "- Danach kann Jupyter Lab via `Anaconda Powershell Prompt` gestartet werden, d.h. ein neues Fenster im Browser mit Jupyter Lab wird geöffnet mit folgendem Code:\n",
    "    - jupyter lab\n",
    "\n",
    "\n",
    "## Und weshalb soll das gut sein?\n",
    "Statistische Analysen sind mit dem Ausführen von Befehlen in Statistik-Programmen nicht abgeschlossen. Deshalb wurden in jüngster Zeit basierend auf Markdown unterschiedliche Ansätze entwickelt, damit Code von Statistik-Programmen, die hieraus resultierenden Ergebnisse und die Interpretation dieser Ergebnisse in einem Dokument zusammengeführt werden. Es erleichtert die Automatisierung von wiederkehrenden Routinen und ermöglicht den Export in unterschiedliche Systeme. So können die Files, die auf Markdown und Code von Statistik-Programmen beruhen, exportiert und konvertiert werden in:\n",
    "- Markdown (.md) \n",
    "- html (.html)\n",
    "- PDF-Dokumente (.pdf)\n",
    "- (über Umwege) nach .docx oder .odt\n",
    "- LaTeX (.tex)\n",
    "Da die Dokumente in Markdown verfasst sind, können die Files auch in Statistik-Programmen geöffnet und bearbeitet werden, in Stata bspw. mit dem Befehl `dyndoc`.\n",
    "\n",
    "\n",
    "## Stata-Syntax verwenden\n",
    "\n",
    "Stata-Syntax kann bei korrekter Installation direkt in Jupyter eingegeben werden. Die Syntax kann demnach analog zur Verwendung des do-File-Editors in Stata verwendet werden.\n",
    "\n",
    "Zunächst kann bspw. die Verbindung zu Stata mit einfachen Befehlen überprüft werden. Eine grau hinterlegt Zelle kann ausgeführt werden mit <kbd>Ctrl</kbd>+<kbd>Enter</kbd> oder <kbd>Shift</kbd>+<kbd>Enter</kbd>. Erscheint eine Nummer in eckigen Klammern rechts von einer Zelle, so bedeutet dies, dass der Code erfolgreich ausgeführt wurde (wobei Zellen manchmal - korrekterweise - keinen Output produzieren."
   ]
  },
  {
   "cell_type": "code",
   "execution_count": 2,
   "metadata": {},
   "outputs": [
    {
     "name": "stdout",
     "output_type": "stream",
     "text": [
      "Hello, world!\n"
     ]
    }
   ],
   "source": [
    "display \"Hello, world!\""
   ]
  },
  {
   "cell_type": "code",
   "execution_count": 3,
   "metadata": {},
   "outputs": [
    {
     "name": "stdout",
     "output_type": "stream",
     "text": [
      "8\n"
     ]
    }
   ],
   "source": [
    "display 1 + 7"
   ]
  },
  {
   "cell_type": "markdown",
   "metadata": {},
   "source": [
    "Wenn oben nicht `Hello, world!` und `8` als Ergebnisse ausgewiesen werden, dann prüfe die [troubleshooting tips](https://kylebarron.dev/stata_kernel/using_stata_kernel/troubleshooting/)."
   ]
  },
  {
   "cell_type": "markdown",
   "metadata": {},
   "source": [
    "Fast alle Befehl, die in Stata laufen, funktinieren auch mit Jupyter. Nur wenige Befehle, die das Grafische User Interface (GUI) benötigen, wie bspw. `browse` und `edit`, funktinieren nur in Windows."
   ]
  },
  {
   "cell_type": "markdown",
   "metadata": {},
   "source": [
    "## Eine Übung beginnen\n",
    "\n",
    "Normalerweise wird eine neue Übung begonnen, in dem ein zu bearbeitender Datensatz geladen wird. Im folgenden Beispiel ist dies der Datensatz `auto.dta`, der in Stata enthalten ist und deshalb anstelle von `use` mit `sysuse` geladen wird."
   ]
  },
  {
   "cell_type": "code",
   "execution_count": 4,
   "metadata": {},
   "outputs": [
    {
     "name": "stdout",
     "output_type": "stream",
     "text": [
      "(1978 Automobile Data)\n"
     ]
    }
   ],
   "source": [
    "sysuse auto.dta"
   ]
  },
  {
   "cell_type": "markdown",
   "metadata": {},
   "source": [
    "Nun ist der Datensatz `auto.dta` geladen und kann bearbeitet werden."
   ]
  },
  {
   "cell_type": "markdown",
   "metadata": {},
   "source": [
    "### Deskriptive Kennzahlen"
   ]
  },
  {
   "cell_type": "code",
   "execution_count": 11,
   "metadata": {},
   "outputs": [
    {
     "name": "stdout",
     "output_type": "stream",
     "text": [
      "\n",
      "\n",
      "    Variable |        Obs        Mean    Std. Dev.       Min        Max\n",
      "-------------+---------------------------------------------------------\n",
      "         mpg |         74     21.2973    5.785503         12         41\n",
      "\n",
      "\n",
      "foreign -- Car type\n",
      "----------------------------------------------------------------\n",
      "                   |      Freq.    Percent      Valid       Cum.\n",
      "-------------------+--------------------------------------------\n",
      "Valid   0 Domestic |         52      70.27      70.27      70.27\n",
      "        1 Foreign  |         22      29.73      29.73     100.00\n",
      "        Total      |         74     100.00     100.00           \n",
      "----------------------------------------------------------------\n",
      "\n",
      "\n",
      "           |                                     Headroom (in.)\n",
      "  Car type |       1.5        2.0        2.5        3.0        3.5        4.0        4.5        5.0 |     Total\n",
      "-----------+----------------------------------------------------------------------------------------+----------\n",
      "  Domestic |         3         10          4          7         13         10          4          1 |        52 \n",
      "   Foreign |         1          3         10          6          2          0          0          0 |        22 \n",
      "-----------+----------------------------------------------------------------------------------------+----------\n",
      "     Total |         4         13         14         13         15         10          4          1 |        74 \n"
     ]
    }
   ],
   "source": [
    "*codebook\n",
    "sum mpg\n",
    "tab foreign, m\n",
    "tabulate foreign headroom"
   ]
  },
  {
   "cell_type": "markdown",
   "metadata": {},
   "source": [
    "\\\n",
    "Aber es können auch Befehle verwendet werden, die von der Stata-Community zur Verfügung gestellt werden, wie bspw. der Befehl `fre`."
   ]
  },
  {
   "cell_type": "code",
   "execution_count": 12,
   "metadata": {},
   "outputs": [
    {
     "name": "stdout",
     "output_type": "stream",
     "text": [
      "\n",
      "checking fre consistency and verifying not already installed...\n",
      "all files already exist and are up to date.\n",
      "\n",
      "\n",
      "foreign -- Car type\n",
      "----------------------------------------------------------------\n",
      "                   |      Freq.    Percent      Valid       Cum.\n",
      "-------------------+--------------------------------------------\n",
      "Valid   0 Domestic |         52      70.27      70.27      70.27\n",
      "        1 Foreign  |         22      29.73      29.73     100.00\n",
      "        Total      |         74     100.00     100.00           \n",
      "----------------------------------------------------------------\n"
     ]
    }
   ],
   "source": [
    "net install fre, from(http://fmwww.bc.edu/RePEc/bocode/f)\n",
    "fre foreign"
   ]
  },
  {
   "cell_type": "markdown",
   "metadata": {},
   "source": [
    "Or you can use other commands, for e.g. `tab_chi`."
   ]
  },
  {
   "cell_type": "markdown",
   "metadata": {},
   "source": [
    "## Abbildungen"
   ]
  },
  {
   "cell_type": "markdown",
   "metadata": {},
   "source": [
    "Zur Erzeugung von Abbildungen kan die Stata-Syntax verwendet werden. Sollen mehrere Graphen angezeigt weden, dann entspricht die Reihenfolge des Outputs derjenigen des Codes."
   ]
  },
  {
   "cell_type": "code",
   "execution_count": 13,
   "metadata": {},
   "outputs": [
    {
     "data": {
      "application/pdf": "[encoded data removed]",
      "image/svg+xml": [
       "<?xml version=\"1.0\" encoding=\"UTF-8\" standalone=\"no\"?>\n",
       "<!-- This is a Stata 16.0 generated SVG file (http://www.stata.com) -->\n",
       "\n",
       "<svg version=\"1.1\" width=\"600px\" height=\"436px\" viewBox=\"0 0 3960 2880\" xmlns=\"http://www.w3.org/2000/svg\" xmlns:xlink=\"http://www.w3.org/1999/xlink\">\n",
       "\t<desc>Stata Graph - Graph</desc>\n",
       "\t<rect x=\"0\" y=\"0\" width=\"3960\" height=\"2880\" style=\"fill:#EAF2F3;stroke:none\"/>\n",
       "\t<rect x=\"0.00\" y=\"0.00\" width=\"3959.88\" height=\"2880.00\" style=\"fill:#EAF2F3\"/>\n",
       "\t<rect x=\"2.88\" y=\"2.88\" width=\"3954.12\" height=\"2874.24\" style=\"fill:none;stroke:#EAF2F3;stroke-width:5.76\"/>\n",
       "\t<rect x=\"390.80\" y=\"275.35\" width=\"3468.22\" height=\"2213.83\" style=\"fill:#FFFFFF\"/>\n",
       "\t<rect x=\"393.68\" y=\"278.23\" width=\"3462.46\" height=\"2208.07\" style=\"fill:none;stroke:#FFFFFF;stroke-width:5.76\"/>\n",
       "\t<line x1=\"390.80\" y1=\"2425.82\" x2=\"3859.02\" y2=\"2425.82\" style=\"stroke:#EAF2F3;stroke-width:8.64\"/>\n",
       "\t<line x1=\"390.80\" y1=\"1752.60\" x2=\"3859.02\" y2=\"1752.60\" style=\"stroke:#EAF2F3;stroke-width:8.64\"/>\n",
       "\t<line x1=\"390.80\" y1=\"1079.26\" x2=\"3859.02\" y2=\"1079.26\" style=\"stroke:#EAF2F3;stroke-width:8.64\"/>\n",
       "\t<line x1=\"390.80\" y1=\"406.04\" x2=\"3859.02\" y2=\"406.04\" style=\"stroke:#EAF2F3;stroke-width:8.64\"/>\n",
       "\t<circle cx=\"1660.72\" cy=\"1617.96\" r=\"26.35\" style=\"fill:#1A476F\"/>\n",
       "\t<circle cx=\"1660.72\" cy=\"1617.96\" r=\"22.03\" style=\"fill:none;stroke:#1A476F;stroke-width:8.64\"/>\n",
       "\t<circle cx=\"2093.97\" cy=\"1954.57\" r=\"26.35\" style=\"fill:#1A476F\"/>\n",
       "\t<circle cx=\"2093.97\" cy=\"1954.57\" r=\"22.03\" style=\"fill:none;stroke:#1A476F;stroke-width:8.64\"/>\n",
       "\t<circle cx=\"1361.62\" cy=\"1617.96\" r=\"26.35\" style=\"fill:#1A476F\"/>\n",
       "\t<circle cx=\"1361.62\" cy=\"1617.96\" r=\"22.03\" style=\"fill:none;stroke:#1A476F;stroke-width:8.64\"/>\n",
       "\t<circle cx=\"1990.77\" cy=\"1752.60\" r=\"26.35\" style=\"fill:#1A476F\"/>\n",
       "\t<circle cx=\"1990.77\" cy=\"1752.60\" r=\"22.03\" style=\"fill:none;stroke:#1A476F;stroke-width:8.64\"/>\n",
       "\t<circle cx=\"2846.87\" cy=\"2089.34\" r=\"26.35\" style=\"fill:#1A476F\"/>\n",
       "\t<circle cx=\"2846.87\" cy=\"2089.34\" r=\"22.03\" style=\"fill:none;stroke:#1A476F;stroke-width:8.64\"/>\n",
       "\t<circle cx=\"2424.01\" cy=\"1887.25\" r=\"26.35\" style=\"fill:#1A476F\"/>\n",
       "\t<circle cx=\"2424.01\" cy=\"1887.25\" r=\"22.03\" style=\"fill:none;stroke:#1A476F;stroke-width:8.64\"/>\n",
       "\t<circle cx=\"938.77\" cy=\"1348.67\" r=\"26.35\" style=\"fill:#1A476F\"/>\n",
       "\t<circle cx=\"938.77\" cy=\"1348.67\" r=\"22.03\" style=\"fill:none;stroke:#1A476F;stroke-width:8.64\"/>\n",
       "\t<circle cx=\"2021.70\" cy=\"1752.60\" r=\"26.35\" style=\"fill:#1A476F\"/>\n",
       "\t<circle cx=\"2021.70\" cy=\"1752.60\" r=\"22.03\" style=\"fill:none;stroke:#1A476F;stroke-width:8.64\"/>\n",
       "\t<circle cx=\"2640.58\" cy=\"2021.89\" r=\"26.35\" style=\"fill:#1A476F\"/>\n",
       "\t<circle cx=\"2640.58\" cy=\"2021.89\" r=\"22.03\" style=\"fill:none;stroke:#1A476F;stroke-width:8.64\"/>\n",
       "\t<circle cx=\"2145.45\" cy=\"1819.92\" r=\"26.35\" style=\"fill:#1A476F\"/>\n",
       "\t<circle cx=\"2145.45\" cy=\"1819.92\" r=\"22.03\" style=\"fill:none;stroke:#1A476F;stroke-width:8.64\"/>\n",
       "\t<circle cx=\"3104.64\" cy=\"2156.66\" r=\"26.35\" style=\"fill:#1A476F\"/>\n",
       "\t<circle cx=\"3104.64\" cy=\"2156.66\" r=\"22.03\" style=\"fill:none;stroke:#1A476F;stroke-width:8.64\"/>\n",
       "\t<circle cx=\"2661.12\" cy=\"2156.66\" r=\"26.35\" style=\"fill:#1A476F\"/>\n",
       "\t<circle cx=\"2661.12\" cy=\"2156.66\" r=\"22.03\" style=\"fill:none;stroke:#1A476F;stroke-width:8.64\"/>\n",
       "\t<circle cx=\"3063.43\" cy=\"1685.28\" r=\"26.35\" style=\"fill:#1A476F\"/>\n",
       "\t<circle cx=\"3063.43\" cy=\"1685.28\" r=\"22.03\" style=\"fill:none;stroke:#1A476F;stroke-width:8.64\"/>\n",
       "\t<circle cx=\"815.02\" cy=\"1146.70\" r=\"26.35\" style=\"fill:#1A476F\"/>\n",
       "\t<circle cx=\"815.02\" cy=\"1146.70\" r=\"22.03\" style=\"fill:none;stroke:#1A476F;stroke-width:8.64\"/>\n",
       "\t<circle cx=\"2444.56\" cy=\"2021.89\" r=\"26.35\" style=\"fill:#1A476F\"/>\n",
       "\t<circle cx=\"2444.56\" cy=\"2021.89\" r=\"22.03\" style=\"fill:none;stroke:#1A476F;stroke-width:8.64\"/>\n",
       "\t<circle cx=\"1918.62\" cy=\"1617.96\" r=\"26.35\" style=\"fill:#1A476F\"/>\n",
       "\t<circle cx=\"1918.62\" cy=\"1617.96\" r=\"22.03\" style=\"fill:none;stroke:#1A476F;stroke-width:8.64\"/>\n",
       "\t<circle cx=\"1959.83\" cy=\"1617.96\" r=\"26.35\" style=\"fill:#1A476F\"/>\n",
       "\t<circle cx=\"1959.83\" cy=\"1617.96\" r=\"22.03\" style=\"fill:none;stroke:#1A476F;stroke-width:8.64\"/>\n",
       "\t<circle cx=\"1475.10\" cy=\"1483.31\" r=\"26.35\" style=\"fill:#1A476F\"/>\n",
       "\t<circle cx=\"1475.10\" cy=\"1483.31\" r=\"22.03\" style=\"fill:none;stroke:#1A476F;stroke-width:8.64\"/>\n",
       "\t<circle cx=\"2176.39\" cy=\"1819.92\" r=\"26.35\" style=\"fill:#1A476F\"/>\n",
       "\t<circle cx=\"2176.39\" cy=\"1819.92\" r=\"22.03\" style=\"fill:none;stroke:#1A476F;stroke-width:8.64\"/>\n",
       "\t<circle cx=\"825.41\" cy=\"1079.38\" r=\"26.35\" style=\"fill:#1A476F\"/>\n",
       "\t<circle cx=\"825.41\" cy=\"1079.38\" r=\"22.03\" style=\"fill:none;stroke:#1A476F;stroke-width:8.64\"/>\n",
       "\t<circle cx=\"2351.74\" cy=\"1887.25\" r=\"26.35\" style=\"fill:#1A476F\"/>\n",
       "\t<circle cx=\"2351.74\" cy=\"1887.25\" r=\"22.03\" style=\"fill:none;stroke:#1A476F;stroke-width:8.64\"/>\n",
       "\t<circle cx=\"2351.74\" cy=\"2021.89\" r=\"26.35\" style=\"fill:#1A476F\"/>\n",
       "\t<circle cx=\"2351.74\" cy=\"2021.89\" r=\"22.03\" style=\"fill:none;stroke:#1A476F;stroke-width:8.64\"/>\n",
       "\t<circle cx=\"2496.16\" cy=\"1954.57\" r=\"26.35\" style=\"fill:#1A476F\"/>\n",
       "\t<circle cx=\"2496.16\" cy=\"1954.57\" r=\"22.03\" style=\"fill:none;stroke:#1A476F;stroke-width:8.64\"/>\n",
       "\t<circle cx=\"495.37\" cy=\"1214.03\" r=\"26.35\" style=\"fill:#1A476F\"/>\n",
       "\t<circle cx=\"495.37\" cy=\"1214.03\" r=\"22.03\" style=\"fill:none;stroke:#1A476F;stroke-width:8.64\"/>\n",
       "\t<circle cx=\"1372.02\" cy=\"1685.28\" r=\"26.35\" style=\"fill:#1A476F\"/>\n",
       "\t<circle cx=\"1372.02\" cy=\"1685.28\" r=\"22.03\" style=\"fill:none;stroke:#1A476F;stroke-width:8.64\"/>\n",
       "\t<circle cx=\"3630.70\" cy=\"2291.30\" r=\"26.35\" style=\"fill:#1A476F\"/>\n",
       "\t<circle cx=\"3630.70\" cy=\"2291.30\" r=\"22.03\" style=\"fill:none;stroke:#1A476F;stroke-width:8.64\"/>\n",
       "\t<circle cx=\"3506.83\" cy=\"2291.30\" r=\"26.35\" style=\"fill:#1A476F\"/>\n",
       "\t<circle cx=\"3506.83\" cy=\"2291.30\" r=\"22.03\" style=\"fill:none;stroke:#1A476F;stroke-width:8.64\"/>\n",
       "\t<circle cx=\"2588.97\" cy=\"2156.66\" r=\"26.35\" style=\"fill:#1A476F\"/>\n",
       "\t<circle cx=\"2588.97\" cy=\"2156.66\" r=\"22.03\" style=\"fill:none;stroke:#1A476F;stroke-width:8.64\"/>\n",
       "\t<circle cx=\"1299.75\" cy=\"1617.96\" r=\"26.35\" style=\"fill:#1A476F\"/>\n",
       "\t<circle cx=\"1299.75\" cy=\"1617.96\" r=\"22.03\" style=\"fill:none;stroke:#1A476F;stroke-width:8.64\"/>\n",
       "\t<circle cx=\"2826.20\" cy=\"2156.66\" r=\"26.35\" style=\"fill:#1A476F\"/>\n",
       "\t<circle cx=\"2826.20\" cy=\"2156.66\" r=\"22.03\" style=\"fill:none;stroke:#1A476F;stroke-width:8.64\"/>\n",
       "\t<circle cx=\"2475.49\" cy=\"2089.34\" r=\"26.35\" style=\"fill:#1A476F\"/>\n",
       "\t<circle cx=\"2475.49\" cy=\"2089.34\" r=\"22.03\" style=\"fill:none;stroke:#1A476F;stroke-width:8.64\"/>\n",
       "\t<circle cx=\"2114.52\" cy=\"1887.25\" r=\"26.35\" style=\"fill:#1A476F\"/>\n",
       "\t<circle cx=\"2114.52\" cy=\"1887.25\" r=\"22.03\" style=\"fill:none;stroke:#1A476F;stroke-width:8.64\"/>\n",
       "\t<circle cx=\"2898.35\" cy=\"2156.66\" r=\"26.35\" style=\"fill:#1A476F\"/>\n",
       "\t<circle cx=\"2898.35\" cy=\"2156.66\" r=\"22.03\" style=\"fill:none;stroke:#1A476F;stroke-width:8.64\"/>\n",
       "\t<circle cx=\"1557.64\" cy=\"1752.60\" r=\"26.35\" style=\"fill:#1A476F\"/>\n",
       "\t<circle cx=\"1557.64\" cy=\"1752.60\" r=\"22.03\" style=\"fill:none;stroke:#1A476F;stroke-width:8.64\"/>\n",
       "\t<circle cx=\"2826.20\" cy=\"1685.28\" r=\"26.35\" style=\"fill:#1A476F\"/>\n",
       "\t<circle cx=\"2826.20\" cy=\"1685.28\" r=\"22.03\" style=\"fill:none;stroke:#1A476F;stroke-width:8.64\"/>\n",
       "\t<circle cx=\"2052.64\" cy=\"1819.92\" r=\"26.35\" style=\"fill:#1A476F\"/>\n",
       "\t<circle cx=\"2052.64\" cy=\"1819.92\" r=\"22.03\" style=\"fill:none;stroke:#1A476F;stroke-width:8.64\"/>\n",
       "\t<circle cx=\"2042.37\" cy=\"1819.92\" r=\"26.35\" style=\"fill:#1A476F\"/>\n",
       "\t<circle cx=\"2042.37\" cy=\"1819.92\" r=\"22.03\" style=\"fill:none;stroke:#1A476F;stroke-width:8.64\"/>\n",
       "\t<circle cx=\"2444.56\" cy=\"1887.25\" r=\"26.35\" style=\"fill:#1A476F\"/>\n",
       "\t<circle cx=\"2444.56\" cy=\"1887.25\" r=\"22.03\" style=\"fill:none;stroke:#1A476F;stroke-width:8.64\"/>\n",
       "\t<circle cx=\"2114.52\" cy=\"1819.92\" r=\"26.35\" style=\"fill:#1A476F\"/>\n",
       "\t<circle cx=\"2114.52\" cy=\"1819.92\" r=\"22.03\" style=\"fill:none;stroke:#1A476F;stroke-width:8.64\"/>\n",
       "\t<circle cx=\"1454.43\" cy=\"1483.31\" r=\"26.35\" style=\"fill:#1A476F\"/>\n",
       "\t<circle cx=\"1454.43\" cy=\"1483.31\" r=\"22.03\" style=\"fill:none;stroke:#1A476F;stroke-width:8.64\"/>\n",
       "\t<circle cx=\"2795.26\" cy=\"2021.89\" r=\"26.35\" style=\"fill:#1A476F\"/>\n",
       "\t<circle cx=\"2795.26\" cy=\"2021.89\" r=\"22.03\" style=\"fill:none;stroke:#1A476F;stroke-width:8.64\"/>\n",
       "\t<circle cx=\"2001.16\" cy=\"1214.03\" r=\"26.35\" style=\"fill:#1A476F\"/>\n",
       "\t<circle cx=\"2001.16\" cy=\"1214.03\" r=\"22.03\" style=\"fill:none;stroke:#1A476F;stroke-width:8.64\"/>\n",
       "\t<circle cx=\"495.37\" cy=\"810.09\" r=\"26.35\" style=\"fill:#1A476F\"/>\n",
       "\t<circle cx=\"495.37\" cy=\"810.09\" r=\"22.03\" style=\"fill:none;stroke:#1A476F;stroke-width:8.64\"/>\n",
       "\t<circle cx=\"907.83\" cy=\"1415.99\" r=\"26.35\" style=\"fill:#1A476F\"/>\n",
       "\t<circle cx=\"907.83\" cy=\"1415.99\" r=\"22.03\" style=\"fill:none;stroke:#1A476F;stroke-width:8.64\"/>\n",
       "\t<circle cx=\"1237.87\" cy=\"1348.67\" r=\"26.35\" style=\"fill:#1A476F\"/>\n",
       "\t<circle cx=\"1237.87\" cy=\"1348.67\" r=\"22.03\" style=\"fill:none;stroke:#1A476F;stroke-width:8.64\"/>\n",
       "\t<circle cx=\"2073.31\" cy=\"1887.25\" r=\"26.35\" style=\"fill:#1A476F\"/>\n",
       "\t<circle cx=\"2073.31\" cy=\"1887.25\" r=\"22.03\" style=\"fill:none;stroke:#1A476F;stroke-width:8.64\"/>\n",
       "\t<circle cx=\"2454.95\" cy=\"1887.25\" r=\"26.35\" style=\"fill:#1A476F\"/>\n",
       "\t<circle cx=\"2454.95\" cy=\"1887.25\" r=\"22.03\" style=\"fill:none;stroke:#1A476F;stroke-width:8.64\"/>\n",
       "\t<circle cx=\"2217.72\" cy=\"1887.25\" r=\"26.35\" style=\"fill:#1A476F\"/>\n",
       "\t<circle cx=\"2217.72\" cy=\"1887.25\" r=\"22.03\" style=\"fill:none;stroke:#1A476F;stroke-width:8.64\"/>\n",
       "\t<circle cx=\"1949.56\" cy=\"1819.92\" r=\"26.35\" style=\"fill:#1A476F\"/>\n",
       "\t<circle cx=\"1949.56\" cy=\"1819.92\" r=\"22.03\" style=\"fill:none;stroke:#1A476F;stroke-width:8.64\"/>\n",
       "\t<circle cx=\"1939.29\" cy=\"1819.92\" r=\"26.35\" style=\"fill:#1A476F\"/>\n",
       "\t<circle cx=\"1939.29\" cy=\"1819.92\" r=\"22.03\" style=\"fill:none;stroke:#1A476F;stroke-width:8.64\"/>\n",
       "\t<circle cx=\"2166.12\" cy=\"1819.92\" r=\"26.35\" style=\"fill:#1A476F\"/>\n",
       "\t<circle cx=\"2166.12\" cy=\"1819.92\" r=\"22.03\" style=\"fill:none;stroke:#1A476F;stroke-width:8.64\"/>\n",
       "\t<circle cx=\"1413.22\" cy=\"1483.31\" r=\"26.35\" style=\"fill:#1A476F\"/>\n",
       "\t<circle cx=\"1413.22\" cy=\"1483.31\" r=\"22.03\" style=\"fill:none;stroke:#1A476F;stroke-width:8.64\"/>\n",
       "\t<circle cx=\"1557.64\" cy=\"1954.57\" r=\"26.35\" style=\"fill:#1A476F\"/>\n",
       "\t<circle cx=\"1557.64\" cy=\"1954.57\" r=\"22.03\" style=\"fill:none;stroke:#1A476F;stroke-width:8.64\"/>\n",
       "\t<circle cx=\"773.81\" cy=\"1550.64\" r=\"26.35\" style=\"fill:#1A476F\"/>\n",
       "\t<circle cx=\"773.81\" cy=\"1550.64\" r=\"22.03\" style=\"fill:none;stroke:#1A476F;stroke-width:8.64\"/>\n",
       "\t<circle cx=\"1372.02\" cy=\"1415.99\" r=\"26.35\" style=\"fill:#1A476F\"/>\n",
       "\t<circle cx=\"1372.02\" cy=\"1415.99\" r=\"22.03\" style=\"fill:none;stroke:#1A476F;stroke-width:8.64\"/>\n",
       "\t<circle cx=\"1083.18\" cy=\"1550.64\" r=\"26.35\" style=\"fill:#1A476F\"/>\n",
       "\t<circle cx=\"1083.18\" cy=\"1550.64\" r=\"22.03\" style=\"fill:none;stroke:#1A476F;stroke-width:8.64\"/>\n",
       "\t<circle cx=\"722.21\" cy=\"742.77\" r=\"26.35\" style=\"fill:#1A476F\"/>\n",
       "\t<circle cx=\"722.21\" cy=\"742.77\" r=\"22.03\" style=\"fill:none;stroke:#1A476F;stroke-width:8.64\"/>\n",
       "\t<circle cx=\"990.37\" cy=\"1483.31\" r=\"26.35\" style=\"fill:#1A476F\"/>\n",
       "\t<circle cx=\"990.37\" cy=\"1483.31\" r=\"22.03\" style=\"fill:none;stroke:#1A476F;stroke-width:8.64\"/>\n",
       "\t<circle cx=\"1475.10\" cy=\"1685.28\" r=\"26.35\" style=\"fill:#1A476F\"/>\n",
       "\t<circle cx=\"1475.10\" cy=\"1685.28\" r=\"22.03\" style=\"fill:none;stroke:#1A476F;stroke-width:8.64\"/>\n",
       "\t<circle cx=\"835.68\" cy=\"1685.28\" r=\"26.35\" style=\"fill:#1A476F\"/>\n",
       "\t<circle cx=\"835.68\" cy=\"1685.28\" r=\"22.03\" style=\"fill:none;stroke:#1A476F;stroke-width:8.64\"/>\n",
       "\t<circle cx=\"949.16\" cy=\"1415.99\" r=\"26.35\" style=\"fill:#1A476F\"/>\n",
       "\t<circle cx=\"949.16\" cy=\"1415.99\" r=\"22.03\" style=\"fill:none;stroke:#1A476F;stroke-width:8.64\"/>\n",
       "\t<circle cx=\"454.04\" cy=\"1214.03\" r=\"26.35\" style=\"fill:#1A476F\"/>\n",
       "\t<circle cx=\"454.04\" cy=\"1214.03\" r=\"22.03\" style=\"fill:none;stroke:#1A476F;stroke-width:8.64\"/>\n",
       "\t<circle cx=\"681.00\" cy=\"1079.38\" r=\"26.35\" style=\"fill:#1A476F\"/>\n",
       "\t<circle cx=\"681.00\" cy=\"1079.38\" r=\"22.03\" style=\"fill:none;stroke:#1A476F;stroke-width:8.64\"/>\n",
       "\t<circle cx=\"2166.12\" cy=\"2156.66\" r=\"26.35\" style=\"fill:#1A476F\"/>\n",
       "\t<circle cx=\"2166.12\" cy=\"2156.66\" r=\"22.03\" style=\"fill:none;stroke:#1A476F;stroke-width:8.64\"/>\n",
       "\t<circle cx=\"526.31\" cy=\"1348.67\" r=\"26.35\" style=\"fill:#1A476F\"/>\n",
       "\t<circle cx=\"526.31\" cy=\"1348.67\" r=\"22.03\" style=\"fill:none;stroke:#1A476F;stroke-width:8.64\"/>\n",
       "\t<circle cx=\"753.14\" cy=\"742.77\" r=\"26.35\" style=\"fill:#1A476F\"/>\n",
       "\t<circle cx=\"753.14\" cy=\"742.77\" r=\"22.03\" style=\"fill:none;stroke:#1A476F;stroke-width:8.64\"/>\n",
       "\t<circle cx=\"1124.52\" cy=\"1887.25\" r=\"26.35\" style=\"fill:#1A476F\"/>\n",
       "\t<circle cx=\"1124.52\" cy=\"1887.25\" r=\"22.03\" style=\"fill:none;stroke:#1A476F;stroke-width:8.64\"/>\n",
       "\t<circle cx=\"907.83\" cy=\"1012.06\" r=\"26.35\" style=\"fill:#1A476F\"/>\n",
       "\t<circle cx=\"907.83\" cy=\"1012.06\" r=\"22.03\" style=\"fill:none;stroke:#1A476F;stroke-width:8.64\"/>\n",
       "\t<circle cx=\"1392.56\" cy=\"1887.25\" r=\"26.35\" style=\"fill:#1A476F\"/>\n",
       "\t<circle cx=\"1392.56\" cy=\"1887.25\" r=\"22.03\" style=\"fill:none;stroke:#1A476F;stroke-width:8.64\"/>\n",
       "\t<circle cx=\"866.62\" cy=\"1550.64\" r=\"26.35\" style=\"fill:#1A476F\"/>\n",
       "\t<circle cx=\"866.62\" cy=\"1550.64\" r=\"22.03\" style=\"fill:none;stroke:#1A476F;stroke-width:8.64\"/>\n",
       "\t<circle cx=\"742.87\" cy=\"338.84\" r=\"26.35\" style=\"fill:#1A476F\"/>\n",
       "\t<circle cx=\"742.87\" cy=\"338.84\" r=\"22.03\" style=\"fill:none;stroke:#1A476F;stroke-width:8.64\"/>\n",
       "\t<circle cx=\"629.39\" cy=\"1415.99\" r=\"26.35\" style=\"fill:#1A476F\"/>\n",
       "\t<circle cx=\"629.39\" cy=\"1415.99\" r=\"22.03\" style=\"fill:none;stroke:#1A476F;stroke-width:8.64\"/>\n",
       "\t<circle cx=\"691.27\" cy=\"1415.99\" r=\"26.35\" style=\"fill:#1A476F\"/>\n",
       "\t<circle cx=\"691.27\" cy=\"1415.99\" r=\"22.03\" style=\"fill:none;stroke:#1A476F;stroke-width:8.64\"/>\n",
       "\t<circle cx=\"1908.22\" cy=\"1954.57\" r=\"26.35\" style=\"fill:#1A476F\"/>\n",
       "\t<circle cx=\"1908.22\" cy=\"1954.57\" r=\"22.03\" style=\"fill:none;stroke:#1A476F;stroke-width:8.64\"/>\n",
       "\t<line x1=\"390.80\" y1=\"2489.19\" x2=\"390.80\" y2=\"275.35\" style=\"stroke:#000000;stroke-width:5.76\"/>\n",
       "\t<line x1=\"390.80\" y1=\"2425.82\" x2=\"350.83\" y2=\"2425.82\" style=\"stroke:#000000;stroke-width:5.76\"/>\n",
       "\t<text x=\"300.72\" y=\"2425.82\" style=\"font-family:'Helvetica';font-size:99.99px;fill:#000000\" transform=\"rotate(-90 300.72,2425.82)\" text-anchor=\"middle\">10</text>\n",
       "\t<line x1=\"390.80\" y1=\"1752.60\" x2=\"350.83\" y2=\"1752.60\" style=\"stroke:#000000;stroke-width:5.76\"/>\n",
       "\t<text x=\"300.72\" y=\"1752.60\" style=\"font-family:'Helvetica';font-size:99.99px;fill:#000000\" transform=\"rotate(-90 300.72,1752.60)\" text-anchor=\"middle\">20</text>\n",
       "\t<line x1=\"390.80\" y1=\"1079.26\" x2=\"350.83\" y2=\"1079.26\" style=\"stroke:#000000;stroke-width:5.76\"/>\n",
       "\t<text x=\"300.72\" y=\"1079.26\" style=\"font-family:'Helvetica';font-size:99.99px;fill:#000000\" transform=\"rotate(-90 300.72,1079.26)\" text-anchor=\"middle\">30</text>\n",
       "\t<line x1=\"390.80\" y1=\"406.04\" x2=\"350.83\" y2=\"406.04\" style=\"stroke:#000000;stroke-width:5.76\"/>\n",
       "\t<text x=\"300.72\" y=\"406.04\" style=\"font-family:'Helvetica';font-size:99.99px;fill:#000000\" transform=\"rotate(-90 300.72,406.04)\" text-anchor=\"middle\">40</text>\n",
       "\t<text x=\"190.71\" y=\"1382.33\" style=\"font-family:'Helvetica';font-size:99.99px;fill:#000000\" transform=\"rotate(-90 190.71,1382.33)\" text-anchor=\"middle\">Mileage (mpg)</text>\n",
       "\t<line x1=\"390.80\" y1=\"2489.19\" x2=\"3859.02\" y2=\"2489.19\" style=\"stroke:#000000;stroke-width:5.76\"/>\n",
       "\t<line x1=\"701.66\" y1=\"2489.19\" x2=\"701.66\" y2=\"2529.16\" style=\"stroke:#000000;stroke-width:5.76\"/>\n",
       "\t<text x=\"701.66\" y=\"2619.14\" style=\"font-family:'Helvetica';font-size:99.99px;fill:#000000\" text-anchor=\"middle\">2,000</text>\n",
       "\t<line x1=\"1732.99\" y1=\"2489.19\" x2=\"1732.99\" y2=\"2529.16\" style=\"stroke:#000000;stroke-width:5.76\"/>\n",
       "\t<text x=\"1732.99\" y=\"2619.14\" style=\"font-family:'Helvetica';font-size:99.99px;fill:#000000\" text-anchor=\"middle\">3,000</text>\n",
       "\t<line x1=\"2764.33\" y1=\"2489.19\" x2=\"2764.33\" y2=\"2529.16\" style=\"stroke:#000000;stroke-width:5.76\"/>\n",
       "\t<text x=\"2764.33\" y=\"2619.14\" style=\"font-family:'Helvetica';font-size:99.99px;fill:#000000\" text-anchor=\"middle\">4,000</text>\n",
       "\t<line x1=\"3795.66\" y1=\"2489.19\" x2=\"3795.66\" y2=\"2529.16\" style=\"stroke:#000000;stroke-width:5.76\"/>\n",
       "\t<text x=\"3795.66\" y=\"2619.14\" style=\"font-family:'Helvetica';font-size:99.99px;fill:#000000\" text-anchor=\"middle\">5,000</text>\n",
       "\t<text x=\"2124.91\" y=\"2729.16\" style=\"font-family:'Helvetica';font-size:99.99px;fill:#000000\" text-anchor=\"middle\">Weight (lbs.)</text>\n",
       "\t<text x=\"2124.91\" y=\"215.98\" style=\"font-family:'Helvetica';font-size:139.96px;fill:#1E2D53\" text-anchor=\"middle\">Miles per Gallon vs Car Weight</text>\n",
       "</svg>\n"
      ],
      "text/html": [
       "                <iframe frameborder=\"0\" scrolling=\"no\" height=\"436\" width=\"600\"                srcdoc=\"<html><body>&lt;?xml version=&quot;1.0&quot; encoding=&quot;UTF-8&quot; standalone=&quot;no&quot;?&gt;\n",
       "&lt;!-- This is a Stata 16.0 generated SVG file (http://www.stata.com) --&gt;\n",
       "\n",
       "&lt;svg version=&quot;1.1&quot; width=&quot;600px&quot; height=&quot;436px&quot; viewBox=&quot;0 0 3960 2880&quot; xmlns=&quot;http://www.w3.org/2000/svg&quot; xmlns:xlink=&quot;http://www.w3.org/1999/xlink&quot;&gt;\n",
       "\t&lt;desc&gt;Stata Graph - Graph&lt;/desc&gt;\n",
       "\t&lt;rect x=&quot;0&quot; y=&quot;0&quot; width=&quot;3960&quot; height=&quot;2880&quot; style=&quot;fill:#EAF2F3;stroke:none&quot;/&gt;\n",
       "\t&lt;rect x=&quot;0.00&quot; y=&quot;0.00&quot; width=&quot;3959.88&quot; height=&quot;2880.00&quot; style=&quot;fill:#EAF2F3&quot;/&gt;\n",
       "\t&lt;rect x=&quot;2.88&quot; y=&quot;2.88&quot; width=&quot;3954.12&quot; height=&quot;2874.24&quot; style=&quot;fill:none;stroke:#EAF2F3;stroke-width:5.76&quot;/&gt;\n",
       "\t&lt;rect x=&quot;390.80&quot; y=&quot;275.35&quot; width=&quot;3468.22&quot; height=&quot;2213.83&quot; style=&quot;fill:#FFFFFF&quot;/&gt;\n",
       "\t&lt;rect x=&quot;393.68&quot; y=&quot;278.23&quot; width=&quot;3462.46&quot; height=&quot;2208.07&quot; style=&quot;fill:none;stroke:#FFFFFF;stroke-width:5.76&quot;/&gt;\n",
       "\t&lt;line x1=&quot;390.80&quot; y1=&quot;2425.82&quot; x2=&quot;3859.02&quot; y2=&quot;2425.82&quot; style=&quot;stroke:#EAF2F3;stroke-width:8.64&quot;/&gt;\n",
       "\t&lt;line x1=&quot;390.80&quot; y1=&quot;1752.60&quot; x2=&quot;3859.02&quot; y2=&quot;1752.60&quot; style=&quot;stroke:#EAF2F3;stroke-width:8.64&quot;/&gt;\n",
       "\t&lt;line x1=&quot;390.80&quot; y1=&quot;1079.26&quot; x2=&quot;3859.02&quot; y2=&quot;1079.26&quot; style=&quot;stroke:#EAF2F3;stroke-width:8.64&quot;/&gt;\n",
       "\t&lt;line x1=&quot;390.80&quot; y1=&quot;406.04&quot; x2=&quot;3859.02&quot; y2=&quot;406.04&quot; style=&quot;stroke:#EAF2F3;stroke-width:8.64&quot;/&gt;\n",
       "\t&lt;circle cx=&quot;1660.72&quot; cy=&quot;1617.96&quot; r=&quot;26.35&quot; style=&quot;fill:#1A476F&quot;/&gt;\n",
       "\t&lt;circle cx=&quot;1660.72&quot; cy=&quot;1617.96&quot; r=&quot;22.03&quot; style=&quot;fill:none;stroke:#1A476F;stroke-width:8.64&quot;/&gt;\n",
       "\t&lt;circle cx=&quot;2093.97&quot; cy=&quot;1954.57&quot; r=&quot;26.35&quot; style=&quot;fill:#1A476F&quot;/&gt;\n",
       "\t&lt;circle cx=&quot;2093.97&quot; cy=&quot;1954.57&quot; r=&quot;22.03&quot; style=&quot;fill:none;stroke:#1A476F;stroke-width:8.64&quot;/&gt;\n",
       "\t&lt;circle cx=&quot;1361.62&quot; cy=&quot;1617.96&quot; r=&quot;26.35&quot; style=&quot;fill:#1A476F&quot;/&gt;\n",
       "\t&lt;circle cx=&quot;1361.62&quot; cy=&quot;1617.96&quot; r=&quot;22.03&quot; style=&quot;fill:none;stroke:#1A476F;stroke-width:8.64&quot;/&gt;\n",
       "\t&lt;circle cx=&quot;1990.77&quot; cy=&quot;1752.60&quot; r=&quot;26.35&quot; style=&quot;fill:#1A476F&quot;/&gt;\n",
       "\t&lt;circle cx=&quot;1990.77&quot; cy=&quot;1752.60&quot; r=&quot;22.03&quot; style=&quot;fill:none;stroke:#1A476F;stroke-width:8.64&quot;/&gt;\n",
       "\t&lt;circle cx=&quot;2846.87&quot; cy=&quot;2089.34&quot; r=&quot;26.35&quot; style=&quot;fill:#1A476F&quot;/&gt;\n",
       "\t&lt;circle cx=&quot;2846.87&quot; cy=&quot;2089.34&quot; r=&quot;22.03&quot; style=&quot;fill:none;stroke:#1A476F;stroke-width:8.64&quot;/&gt;\n",
       "\t&lt;circle cx=&quot;2424.01&quot; cy=&quot;1887.25&quot; r=&quot;26.35&quot; style=&quot;fill:#1A476F&quot;/&gt;\n",
       "\t&lt;circle cx=&quot;2424.01&quot; cy=&quot;1887.25&quot; r=&quot;22.03&quot; style=&quot;fill:none;stroke:#1A476F;stroke-width:8.64&quot;/&gt;\n",
       "\t&lt;circle cx=&quot;938.77&quot; cy=&quot;1348.67&quot; r=&quot;26.35&quot; style=&quot;fill:#1A476F&quot;/&gt;\n",
       "\t&lt;circle cx=&quot;938.77&quot; cy=&quot;1348.67&quot; r=&quot;22.03&quot; style=&quot;fill:none;stroke:#1A476F;stroke-width:8.64&quot;/&gt;\n",
       "\t&lt;circle cx=&quot;2021.70&quot; cy=&quot;1752.60&quot; r=&quot;26.35&quot; style=&quot;fill:#1A476F&quot;/&gt;\n",
       "\t&lt;circle cx=&quot;2021.70&quot; cy=&quot;1752.60&quot; r=&quot;22.03&quot; style=&quot;fill:none;stroke:#1A476F;stroke-width:8.64&quot;/&gt;\n",
       "\t&lt;circle cx=&quot;2640.58&quot; cy=&quot;2021.89&quot; r=&quot;26.35&quot; style=&quot;fill:#1A476F&quot;/&gt;\n",
       "\t&lt;circle cx=&quot;2640.58&quot; cy=&quot;2021.89&quot; r=&quot;22.03&quot; style=&quot;fill:none;stroke:#1A476F;stroke-width:8.64&quot;/&gt;\n",
       "\t&lt;circle cx=&quot;2145.45&quot; cy=&quot;1819.92&quot; r=&quot;26.35&quot; style=&quot;fill:#1A476F&quot;/&gt;\n",
       "\t&lt;circle cx=&quot;2145.45&quot; cy=&quot;1819.92&quot; r=&quot;22.03&quot; style=&quot;fill:none;stroke:#1A476F;stroke-width:8.64&quot;/&gt;\n",
       "\t&lt;circle cx=&quot;3104.64&quot; cy=&quot;2156.66&quot; r=&quot;26.35&quot; style=&quot;fill:#1A476F&quot;/&gt;\n",
       "\t&lt;circle cx=&quot;3104.64&quot; cy=&quot;2156.66&quot; r=&quot;22.03&quot; style=&quot;fill:none;stroke:#1A476F;stroke-width:8.64&quot;/&gt;\n",
       "\t&lt;circle cx=&quot;2661.12&quot; cy=&quot;2156.66&quot; r=&quot;26.35&quot; style=&quot;fill:#1A476F&quot;/&gt;\n",
       "\t&lt;circle cx=&quot;2661.12&quot; cy=&quot;2156.66&quot; r=&quot;22.03&quot; style=&quot;fill:none;stroke:#1A476F;stroke-width:8.64&quot;/&gt;\n",
       "\t&lt;circle cx=&quot;3063.43&quot; cy=&quot;1685.28&quot; r=&quot;26.35&quot; style=&quot;fill:#1A476F&quot;/&gt;\n",
       "\t&lt;circle cx=&quot;3063.43&quot; cy=&quot;1685.28&quot; r=&quot;22.03&quot; style=&quot;fill:none;stroke:#1A476F;stroke-width:8.64&quot;/&gt;\n",
       "\t&lt;circle cx=&quot;815.02&quot; cy=&quot;1146.70&quot; r=&quot;26.35&quot; style=&quot;fill:#1A476F&quot;/&gt;\n",
       "\t&lt;circle cx=&quot;815.02&quot; cy=&quot;1146.70&quot; r=&quot;22.03&quot; style=&quot;fill:none;stroke:#1A476F;stroke-width:8.64&quot;/&gt;\n",
       "\t&lt;circle cx=&quot;2444.56&quot; cy=&quot;2021.89&quot; r=&quot;26.35&quot; style=&quot;fill:#1A476F&quot;/&gt;\n",
       "\t&lt;circle cx=&quot;2444.56&quot; cy=&quot;2021.89&quot; r=&quot;22.03&quot; style=&quot;fill:none;stroke:#1A476F;stroke-width:8.64&quot;/&gt;\n",
       "\t&lt;circle cx=&quot;1918.62&quot; cy=&quot;1617.96&quot; r=&quot;26.35&quot; style=&quot;fill:#1A476F&quot;/&gt;\n",
       "\t&lt;circle cx=&quot;1918.62&quot; cy=&quot;1617.96&quot; r=&quot;22.03&quot; style=&quot;fill:none;stroke:#1A476F;stroke-width:8.64&quot;/&gt;\n",
       "\t&lt;circle cx=&quot;1959.83&quot; cy=&quot;1617.96&quot; r=&quot;26.35&quot; style=&quot;fill:#1A476F&quot;/&gt;\n",
       "\t&lt;circle cx=&quot;1959.83&quot; cy=&quot;1617.96&quot; r=&quot;22.03&quot; style=&quot;fill:none;stroke:#1A476F;stroke-width:8.64&quot;/&gt;\n",
       "\t&lt;circle cx=&quot;1475.10&quot; cy=&quot;1483.31&quot; r=&quot;26.35&quot; style=&quot;fill:#1A476F&quot;/&gt;\n",
       "\t&lt;circle cx=&quot;1475.10&quot; cy=&quot;1483.31&quot; r=&quot;22.03&quot; style=&quot;fill:none;stroke:#1A476F;stroke-width:8.64&quot;/&gt;\n",
       "\t&lt;circle cx=&quot;2176.39&quot; cy=&quot;1819.92&quot; r=&quot;26.35&quot; style=&quot;fill:#1A476F&quot;/&gt;\n",
       "\t&lt;circle cx=&quot;2176.39&quot; cy=&quot;1819.92&quot; r=&quot;22.03&quot; style=&quot;fill:none;stroke:#1A476F;stroke-width:8.64&quot;/&gt;\n",
       "\t&lt;circle cx=&quot;825.41&quot; cy=&quot;1079.38&quot; r=&quot;26.35&quot; style=&quot;fill:#1A476F&quot;/&gt;\n",
       "\t&lt;circle cx=&quot;825.41&quot; cy=&quot;1079.38&quot; r=&quot;22.03&quot; style=&quot;fill:none;stroke:#1A476F;stroke-width:8.64&quot;/&gt;\n",
       "\t&lt;circle cx=&quot;2351.74&quot; cy=&quot;1887.25&quot; r=&quot;26.35&quot; style=&quot;fill:#1A476F&quot;/&gt;\n",
       "\t&lt;circle cx=&quot;2351.74&quot; cy=&quot;1887.25&quot; r=&quot;22.03&quot; style=&quot;fill:none;stroke:#1A476F;stroke-width:8.64&quot;/&gt;\n",
       "\t&lt;circle cx=&quot;2351.74&quot; cy=&quot;2021.89&quot; r=&quot;26.35&quot; style=&quot;fill:#1A476F&quot;/&gt;\n",
       "\t&lt;circle cx=&quot;2351.74&quot; cy=&quot;2021.89&quot; r=&quot;22.03&quot; style=&quot;fill:none;stroke:#1A476F;stroke-width:8.64&quot;/&gt;\n",
       "\t&lt;circle cx=&quot;2496.16&quot; cy=&quot;1954.57&quot; r=&quot;26.35&quot; style=&quot;fill:#1A476F&quot;/&gt;\n",
       "\t&lt;circle cx=&quot;2496.16&quot; cy=&quot;1954.57&quot; r=&quot;22.03&quot; style=&quot;fill:none;stroke:#1A476F;stroke-width:8.64&quot;/&gt;\n",
       "\t&lt;circle cx=&quot;495.37&quot; cy=&quot;1214.03&quot; r=&quot;26.35&quot; style=&quot;fill:#1A476F&quot;/&gt;\n",
       "\t&lt;circle cx=&quot;495.37&quot; cy=&quot;1214.03&quot; r=&quot;22.03&quot; style=&quot;fill:none;stroke:#1A476F;stroke-width:8.64&quot;/&gt;\n",
       "\t&lt;circle cx=&quot;1372.02&quot; cy=&quot;1685.28&quot; r=&quot;26.35&quot; style=&quot;fill:#1A476F&quot;/&gt;\n",
       "\t&lt;circle cx=&quot;1372.02&quot; cy=&quot;1685.28&quot; r=&quot;22.03&quot; style=&quot;fill:none;stroke:#1A476F;stroke-width:8.64&quot;/&gt;\n",
       "\t&lt;circle cx=&quot;3630.70&quot; cy=&quot;2291.30&quot; r=&quot;26.35&quot; style=&quot;fill:#1A476F&quot;/&gt;\n",
       "\t&lt;circle cx=&quot;3630.70&quot; cy=&quot;2291.30&quot; r=&quot;22.03&quot; style=&quot;fill:none;stroke:#1A476F;stroke-width:8.64&quot;/&gt;\n",
       "\t&lt;circle cx=&quot;3506.83&quot; cy=&quot;2291.30&quot; r=&quot;26.35&quot; style=&quot;fill:#1A476F&quot;/&gt;\n",
       "\t&lt;circle cx=&quot;3506.83&quot; cy=&quot;2291.30&quot; r=&quot;22.03&quot; style=&quot;fill:none;stroke:#1A476F;stroke-width:8.64&quot;/&gt;\n",
       "\t&lt;circle cx=&quot;2588.97&quot; cy=&quot;2156.66&quot; r=&quot;26.35&quot; style=&quot;fill:#1A476F&quot;/&gt;\n",
       "\t&lt;circle cx=&quot;2588.97&quot; cy=&quot;2156.66&quot; r=&quot;22.03&quot; style=&quot;fill:none;stroke:#1A476F;stroke-width:8.64&quot;/&gt;\n",
       "\t&lt;circle cx=&quot;1299.75&quot; cy=&quot;1617.96&quot; r=&quot;26.35&quot; style=&quot;fill:#1A476F&quot;/&gt;\n",
       "\t&lt;circle cx=&quot;1299.75&quot; cy=&quot;1617.96&quot; r=&quot;22.03&quot; style=&quot;fill:none;stroke:#1A476F;stroke-width:8.64&quot;/&gt;\n",
       "\t&lt;circle cx=&quot;2826.20&quot; cy=&quot;2156.66&quot; r=&quot;26.35&quot; style=&quot;fill:#1A476F&quot;/&gt;\n",
       "\t&lt;circle cx=&quot;2826.20&quot; cy=&quot;2156.66&quot; r=&quot;22.03&quot; style=&quot;fill:none;stroke:#1A476F;stroke-width:8.64&quot;/&gt;\n",
       "\t&lt;circle cx=&quot;2475.49&quot; cy=&quot;2089.34&quot; r=&quot;26.35&quot; style=&quot;fill:#1A476F&quot;/&gt;\n",
       "\t&lt;circle cx=&quot;2475.49&quot; cy=&quot;2089.34&quot; r=&quot;22.03&quot; style=&quot;fill:none;stroke:#1A476F;stroke-width:8.64&quot;/&gt;\n",
       "\t&lt;circle cx=&quot;2114.52&quot; cy=&quot;1887.25&quot; r=&quot;26.35&quot; style=&quot;fill:#1A476F&quot;/&gt;\n",
       "\t&lt;circle cx=&quot;2114.52&quot; cy=&quot;1887.25&quot; r=&quot;22.03&quot; style=&quot;fill:none;stroke:#1A476F;stroke-width:8.64&quot;/&gt;\n",
       "\t&lt;circle cx=&quot;2898.35&quot; cy=&quot;2156.66&quot; r=&quot;26.35&quot; style=&quot;fill:#1A476F&quot;/&gt;\n",
       "\t&lt;circle cx=&quot;2898.35&quot; cy=&quot;2156.66&quot; r=&quot;22.03&quot; style=&quot;fill:none;stroke:#1A476F;stroke-width:8.64&quot;/&gt;\n",
       "\t&lt;circle cx=&quot;1557.64&quot; cy=&quot;1752.60&quot; r=&quot;26.35&quot; style=&quot;fill:#1A476F&quot;/&gt;\n",
       "\t&lt;circle cx=&quot;1557.64&quot; cy=&quot;1752.60&quot; r=&quot;22.03&quot; style=&quot;fill:none;stroke:#1A476F;stroke-width:8.64&quot;/&gt;\n",
       "\t&lt;circle cx=&quot;2826.20&quot; cy=&quot;1685.28&quot; r=&quot;26.35&quot; style=&quot;fill:#1A476F&quot;/&gt;\n",
       "\t&lt;circle cx=&quot;2826.20&quot; cy=&quot;1685.28&quot; r=&quot;22.03&quot; style=&quot;fill:none;stroke:#1A476F;stroke-width:8.64&quot;/&gt;\n",
       "\t&lt;circle cx=&quot;2052.64&quot; cy=&quot;1819.92&quot; r=&quot;26.35&quot; style=&quot;fill:#1A476F&quot;/&gt;\n",
       "\t&lt;circle cx=&quot;2052.64&quot; cy=&quot;1819.92&quot; r=&quot;22.03&quot; style=&quot;fill:none;stroke:#1A476F;stroke-width:8.64&quot;/&gt;\n",
       "\t&lt;circle cx=&quot;2042.37&quot; cy=&quot;1819.92&quot; r=&quot;26.35&quot; style=&quot;fill:#1A476F&quot;/&gt;\n",
       "\t&lt;circle cx=&quot;2042.37&quot; cy=&quot;1819.92&quot; r=&quot;22.03&quot; style=&quot;fill:none;stroke:#1A476F;stroke-width:8.64&quot;/&gt;\n",
       "\t&lt;circle cx=&quot;2444.56&quot; cy=&quot;1887.25&quot; r=&quot;26.35&quot; style=&quot;fill:#1A476F&quot;/&gt;\n",
       "\t&lt;circle cx=&quot;2444.56&quot; cy=&quot;1887.25&quot; r=&quot;22.03&quot; style=&quot;fill:none;stroke:#1A476F;stroke-width:8.64&quot;/&gt;\n",
       "\t&lt;circle cx=&quot;2114.52&quot; cy=&quot;1819.92&quot; r=&quot;26.35&quot; style=&quot;fill:#1A476F&quot;/&gt;\n",
       "\t&lt;circle cx=&quot;2114.52&quot; cy=&quot;1819.92&quot; r=&quot;22.03&quot; style=&quot;fill:none;stroke:#1A476F;stroke-width:8.64&quot;/&gt;\n",
       "\t&lt;circle cx=&quot;1454.43&quot; cy=&quot;1483.31&quot; r=&quot;26.35&quot; style=&quot;fill:#1A476F&quot;/&gt;\n",
       "\t&lt;circle cx=&quot;1454.43&quot; cy=&quot;1483.31&quot; r=&quot;22.03&quot; style=&quot;fill:none;stroke:#1A476F;stroke-width:8.64&quot;/&gt;\n",
       "\t&lt;circle cx=&quot;2795.26&quot; cy=&quot;2021.89&quot; r=&quot;26.35&quot; style=&quot;fill:#1A476F&quot;/&gt;\n",
       "\t&lt;circle cx=&quot;2795.26&quot; cy=&quot;2021.89&quot; r=&quot;22.03&quot; style=&quot;fill:none;stroke:#1A476F;stroke-width:8.64&quot;/&gt;\n",
       "\t&lt;circle cx=&quot;2001.16&quot; cy=&quot;1214.03&quot; r=&quot;26.35&quot; style=&quot;fill:#1A476F&quot;/&gt;\n",
       "\t&lt;circle cx=&quot;2001.16&quot; cy=&quot;1214.03&quot; r=&quot;22.03&quot; style=&quot;fill:none;stroke:#1A476F;stroke-width:8.64&quot;/&gt;\n",
       "\t&lt;circle cx=&quot;495.37&quot; cy=&quot;810.09&quot; r=&quot;26.35&quot; style=&quot;fill:#1A476F&quot;/&gt;\n",
       "\t&lt;circle cx=&quot;495.37&quot; cy=&quot;810.09&quot; r=&quot;22.03&quot; style=&quot;fill:none;stroke:#1A476F;stroke-width:8.64&quot;/&gt;\n",
       "\t&lt;circle cx=&quot;907.83&quot; cy=&quot;1415.99&quot; r=&quot;26.35&quot; style=&quot;fill:#1A476F&quot;/&gt;\n",
       "\t&lt;circle cx=&quot;907.83&quot; cy=&quot;1415.99&quot; r=&quot;22.03&quot; style=&quot;fill:none;stroke:#1A476F;stroke-width:8.64&quot;/&gt;\n",
       "\t&lt;circle cx=&quot;1237.87&quot; cy=&quot;1348.67&quot; r=&quot;26.35&quot; style=&quot;fill:#1A476F&quot;/&gt;\n",
       "\t&lt;circle cx=&quot;1237.87&quot; cy=&quot;1348.67&quot; r=&quot;22.03&quot; style=&quot;fill:none;stroke:#1A476F;stroke-width:8.64&quot;/&gt;\n",
       "\t&lt;circle cx=&quot;2073.31&quot; cy=&quot;1887.25&quot; r=&quot;26.35&quot; style=&quot;fill:#1A476F&quot;/&gt;\n",
       "\t&lt;circle cx=&quot;2073.31&quot; cy=&quot;1887.25&quot; r=&quot;22.03&quot; style=&quot;fill:none;stroke:#1A476F;stroke-width:8.64&quot;/&gt;\n",
       "\t&lt;circle cx=&quot;2454.95&quot; cy=&quot;1887.25&quot; r=&quot;26.35&quot; style=&quot;fill:#1A476F&quot;/&gt;\n",
       "\t&lt;circle cx=&quot;2454.95&quot; cy=&quot;1887.25&quot; r=&quot;22.03&quot; style=&quot;fill:none;stroke:#1A476F;stroke-width:8.64&quot;/&gt;\n",
       "\t&lt;circle cx=&quot;2217.72&quot; cy=&quot;1887.25&quot; r=&quot;26.35&quot; style=&quot;fill:#1A476F&quot;/&gt;\n",
       "\t&lt;circle cx=&quot;2217.72&quot; cy=&quot;1887.25&quot; r=&quot;22.03&quot; style=&quot;fill:none;stroke:#1A476F;stroke-width:8.64&quot;/&gt;\n",
       "\t&lt;circle cx=&quot;1949.56&quot; cy=&quot;1819.92&quot; r=&quot;26.35&quot; style=&quot;fill:#1A476F&quot;/&gt;\n",
       "\t&lt;circle cx=&quot;1949.56&quot; cy=&quot;1819.92&quot; r=&quot;22.03&quot; style=&quot;fill:none;stroke:#1A476F;stroke-width:8.64&quot;/&gt;\n",
       "\t&lt;circle cx=&quot;1939.29&quot; cy=&quot;1819.92&quot; r=&quot;26.35&quot; style=&quot;fill:#1A476F&quot;/&gt;\n",
       "\t&lt;circle cx=&quot;1939.29&quot; cy=&quot;1819.92&quot; r=&quot;22.03&quot; style=&quot;fill:none;stroke:#1A476F;stroke-width:8.64&quot;/&gt;\n",
       "\t&lt;circle cx=&quot;2166.12&quot; cy=&quot;1819.92&quot; r=&quot;26.35&quot; style=&quot;fill:#1A476F&quot;/&gt;\n",
       "\t&lt;circle cx=&quot;2166.12&quot; cy=&quot;1819.92&quot; r=&quot;22.03&quot; style=&quot;fill:none;stroke:#1A476F;stroke-width:8.64&quot;/&gt;\n",
       "\t&lt;circle cx=&quot;1413.22&quot; cy=&quot;1483.31&quot; r=&quot;26.35&quot; style=&quot;fill:#1A476F&quot;/&gt;\n",
       "\t&lt;circle cx=&quot;1413.22&quot; cy=&quot;1483.31&quot; r=&quot;22.03&quot; style=&quot;fill:none;stroke:#1A476F;stroke-width:8.64&quot;/&gt;\n",
       "\t&lt;circle cx=&quot;1557.64&quot; cy=&quot;1954.57&quot; r=&quot;26.35&quot; style=&quot;fill:#1A476F&quot;/&gt;\n",
       "\t&lt;circle cx=&quot;1557.64&quot; cy=&quot;1954.57&quot; r=&quot;22.03&quot; style=&quot;fill:none;stroke:#1A476F;stroke-width:8.64&quot;/&gt;\n",
       "\t&lt;circle cx=&quot;773.81&quot; cy=&quot;1550.64&quot; r=&quot;26.35&quot; style=&quot;fill:#1A476F&quot;/&gt;\n",
       "\t&lt;circle cx=&quot;773.81&quot; cy=&quot;1550.64&quot; r=&quot;22.03&quot; style=&quot;fill:none;stroke:#1A476F;stroke-width:8.64&quot;/&gt;\n",
       "\t&lt;circle cx=&quot;1372.02&quot; cy=&quot;1415.99&quot; r=&quot;26.35&quot; style=&quot;fill:#1A476F&quot;/&gt;\n",
       "\t&lt;circle cx=&quot;1372.02&quot; cy=&quot;1415.99&quot; r=&quot;22.03&quot; style=&quot;fill:none;stroke:#1A476F;stroke-width:8.64&quot;/&gt;\n",
       "\t&lt;circle cx=&quot;1083.18&quot; cy=&quot;1550.64&quot; r=&quot;26.35&quot; style=&quot;fill:#1A476F&quot;/&gt;\n",
       "\t&lt;circle cx=&quot;1083.18&quot; cy=&quot;1550.64&quot; r=&quot;22.03&quot; style=&quot;fill:none;stroke:#1A476F;stroke-width:8.64&quot;/&gt;\n",
       "\t&lt;circle cx=&quot;722.21&quot; cy=&quot;742.77&quot; r=&quot;26.35&quot; style=&quot;fill:#1A476F&quot;/&gt;\n",
       "\t&lt;circle cx=&quot;722.21&quot; cy=&quot;742.77&quot; r=&quot;22.03&quot; style=&quot;fill:none;stroke:#1A476F;stroke-width:8.64&quot;/&gt;\n",
       "\t&lt;circle cx=&quot;990.37&quot; cy=&quot;1483.31&quot; r=&quot;26.35&quot; style=&quot;fill:#1A476F&quot;/&gt;\n",
       "\t&lt;circle cx=&quot;990.37&quot; cy=&quot;1483.31&quot; r=&quot;22.03&quot; style=&quot;fill:none;stroke:#1A476F;stroke-width:8.64&quot;/&gt;\n",
       "\t&lt;circle cx=&quot;1475.10&quot; cy=&quot;1685.28&quot; r=&quot;26.35&quot; style=&quot;fill:#1A476F&quot;/&gt;\n",
       "\t&lt;circle cx=&quot;1475.10&quot; cy=&quot;1685.28&quot; r=&quot;22.03&quot; style=&quot;fill:none;stroke:#1A476F;stroke-width:8.64&quot;/&gt;\n",
       "\t&lt;circle cx=&quot;835.68&quot; cy=&quot;1685.28&quot; r=&quot;26.35&quot; style=&quot;fill:#1A476F&quot;/&gt;\n",
       "\t&lt;circle cx=&quot;835.68&quot; cy=&quot;1685.28&quot; r=&quot;22.03&quot; style=&quot;fill:none;stroke:#1A476F;stroke-width:8.64&quot;/&gt;\n",
       "\t&lt;circle cx=&quot;949.16&quot; cy=&quot;1415.99&quot; r=&quot;26.35&quot; style=&quot;fill:#1A476F&quot;/&gt;\n",
       "\t&lt;circle cx=&quot;949.16&quot; cy=&quot;1415.99&quot; r=&quot;22.03&quot; style=&quot;fill:none;stroke:#1A476F;stroke-width:8.64&quot;/&gt;\n",
       "\t&lt;circle cx=&quot;454.04&quot; cy=&quot;1214.03&quot; r=&quot;26.35&quot; style=&quot;fill:#1A476F&quot;/&gt;\n",
       "\t&lt;circle cx=&quot;454.04&quot; cy=&quot;1214.03&quot; r=&quot;22.03&quot; style=&quot;fill:none;stroke:#1A476F;stroke-width:8.64&quot;/&gt;\n",
       "\t&lt;circle cx=&quot;681.00&quot; cy=&quot;1079.38&quot; r=&quot;26.35&quot; style=&quot;fill:#1A476F&quot;/&gt;\n",
       "\t&lt;circle cx=&quot;681.00&quot; cy=&quot;1079.38&quot; r=&quot;22.03&quot; style=&quot;fill:none;stroke:#1A476F;stroke-width:8.64&quot;/&gt;\n",
       "\t&lt;circle cx=&quot;2166.12&quot; cy=&quot;2156.66&quot; r=&quot;26.35&quot; style=&quot;fill:#1A476F&quot;/&gt;\n",
       "\t&lt;circle cx=&quot;2166.12&quot; cy=&quot;2156.66&quot; r=&quot;22.03&quot; style=&quot;fill:none;stroke:#1A476F;stroke-width:8.64&quot;/&gt;\n",
       "\t&lt;circle cx=&quot;526.31&quot; cy=&quot;1348.67&quot; r=&quot;26.35&quot; style=&quot;fill:#1A476F&quot;/&gt;\n",
       "\t&lt;circle cx=&quot;526.31&quot; cy=&quot;1348.67&quot; r=&quot;22.03&quot; style=&quot;fill:none;stroke:#1A476F;stroke-width:8.64&quot;/&gt;\n",
       "\t&lt;circle cx=&quot;753.14&quot; cy=&quot;742.77&quot; r=&quot;26.35&quot; style=&quot;fill:#1A476F&quot;/&gt;\n",
       "\t&lt;circle cx=&quot;753.14&quot; cy=&quot;742.77&quot; r=&quot;22.03&quot; style=&quot;fill:none;stroke:#1A476F;stroke-width:8.64&quot;/&gt;\n",
       "\t&lt;circle cx=&quot;1124.52&quot; cy=&quot;1887.25&quot; r=&quot;26.35&quot; style=&quot;fill:#1A476F&quot;/&gt;\n",
       "\t&lt;circle cx=&quot;1124.52&quot; cy=&quot;1887.25&quot; r=&quot;22.03&quot; style=&quot;fill:none;stroke:#1A476F;stroke-width:8.64&quot;/&gt;\n",
       "\t&lt;circle cx=&quot;907.83&quot; cy=&quot;1012.06&quot; r=&quot;26.35&quot; style=&quot;fill:#1A476F&quot;/&gt;\n",
       "\t&lt;circle cx=&quot;907.83&quot; cy=&quot;1012.06&quot; r=&quot;22.03&quot; style=&quot;fill:none;stroke:#1A476F;stroke-width:8.64&quot;/&gt;\n",
       "\t&lt;circle cx=&quot;1392.56&quot; cy=&quot;1887.25&quot; r=&quot;26.35&quot; style=&quot;fill:#1A476F&quot;/&gt;\n",
       "\t&lt;circle cx=&quot;1392.56&quot; cy=&quot;1887.25&quot; r=&quot;22.03&quot; style=&quot;fill:none;stroke:#1A476F;stroke-width:8.64&quot;/&gt;\n",
       "\t&lt;circle cx=&quot;866.62&quot; cy=&quot;1550.64&quot; r=&quot;26.35&quot; style=&quot;fill:#1A476F&quot;/&gt;\n",
       "\t&lt;circle cx=&quot;866.62&quot; cy=&quot;1550.64&quot; r=&quot;22.03&quot; style=&quot;fill:none;stroke:#1A476F;stroke-width:8.64&quot;/&gt;\n",
       "\t&lt;circle cx=&quot;742.87&quot; cy=&quot;338.84&quot; r=&quot;26.35&quot; style=&quot;fill:#1A476F&quot;/&gt;\n",
       "\t&lt;circle cx=&quot;742.87&quot; cy=&quot;338.84&quot; r=&quot;22.03&quot; style=&quot;fill:none;stroke:#1A476F;stroke-width:8.64&quot;/&gt;\n",
       "\t&lt;circle cx=&quot;629.39&quot; cy=&quot;1415.99&quot; r=&quot;26.35&quot; style=&quot;fill:#1A476F&quot;/&gt;\n",
       "\t&lt;circle cx=&quot;629.39&quot; cy=&quot;1415.99&quot; r=&quot;22.03&quot; style=&quot;fill:none;stroke:#1A476F;stroke-width:8.64&quot;/&gt;\n",
       "\t&lt;circle cx=&quot;691.27&quot; cy=&quot;1415.99&quot; r=&quot;26.35&quot; style=&quot;fill:#1A476F&quot;/&gt;\n",
       "\t&lt;circle cx=&quot;691.27&quot; cy=&quot;1415.99&quot; r=&quot;22.03&quot; style=&quot;fill:none;stroke:#1A476F;stroke-width:8.64&quot;/&gt;\n",
       "\t&lt;circle cx=&quot;1908.22&quot; cy=&quot;1954.57&quot; r=&quot;26.35&quot; style=&quot;fill:#1A476F&quot;/&gt;\n",
       "\t&lt;circle cx=&quot;1908.22&quot; cy=&quot;1954.57&quot; r=&quot;22.03&quot; style=&quot;fill:none;stroke:#1A476F;stroke-width:8.64&quot;/&gt;\n",
       "\t&lt;line x1=&quot;390.80&quot; y1=&quot;2489.19&quot; x2=&quot;390.80&quot; y2=&quot;275.35&quot; style=&quot;stroke:#000000;stroke-width:5.76&quot;/&gt;\n",
       "\t&lt;line x1=&quot;390.80&quot; y1=&quot;2425.82&quot; x2=&quot;350.83&quot; y2=&quot;2425.82&quot; style=&quot;stroke:#000000;stroke-width:5.76&quot;/&gt;\n",
       "\t&lt;text x=&quot;300.72&quot; y=&quot;2425.82&quot; style=&quot;font-family:&#x27;Helvetica&#x27;;font-size:99.99px;fill:#000000&quot; transform=&quot;rotate(-90 300.72,2425.82)&quot; text-anchor=&quot;middle&quot;&gt;10&lt;/text&gt;\n",
       "\t&lt;line x1=&quot;390.80&quot; y1=&quot;1752.60&quot; x2=&quot;350.83&quot; y2=&quot;1752.60&quot; style=&quot;stroke:#000000;stroke-width:5.76&quot;/&gt;\n",
       "\t&lt;text x=&quot;300.72&quot; y=&quot;1752.60&quot; style=&quot;font-family:&#x27;Helvetica&#x27;;font-size:99.99px;fill:#000000&quot; transform=&quot;rotate(-90 300.72,1752.60)&quot; text-anchor=&quot;middle&quot;&gt;20&lt;/text&gt;\n",
       "\t&lt;line x1=&quot;390.80&quot; y1=&quot;1079.26&quot; x2=&quot;350.83&quot; y2=&quot;1079.26&quot; style=&quot;stroke:#000000;stroke-width:5.76&quot;/&gt;\n",
       "\t&lt;text x=&quot;300.72&quot; y=&quot;1079.26&quot; style=&quot;font-family:&#x27;Helvetica&#x27;;font-size:99.99px;fill:#000000&quot; transform=&quot;rotate(-90 300.72,1079.26)&quot; text-anchor=&quot;middle&quot;&gt;30&lt;/text&gt;\n",
       "\t&lt;line x1=&quot;390.80&quot; y1=&quot;406.04&quot; x2=&quot;350.83&quot; y2=&quot;406.04&quot; style=&quot;stroke:#000000;stroke-width:5.76&quot;/&gt;\n",
       "\t&lt;text x=&quot;300.72&quot; y=&quot;406.04&quot; style=&quot;font-family:&#x27;Helvetica&#x27;;font-size:99.99px;fill:#000000&quot; transform=&quot;rotate(-90 300.72,406.04)&quot; text-anchor=&quot;middle&quot;&gt;40&lt;/text&gt;\n",
       "\t&lt;text x=&quot;190.71&quot; y=&quot;1382.33&quot; style=&quot;font-family:&#x27;Helvetica&#x27;;font-size:99.99px;fill:#000000&quot; transform=&quot;rotate(-90 190.71,1382.33)&quot; text-anchor=&quot;middle&quot;&gt;Mileage (mpg)&lt;/text&gt;\n",
       "\t&lt;line x1=&quot;390.80&quot; y1=&quot;2489.19&quot; x2=&quot;3859.02&quot; y2=&quot;2489.19&quot; style=&quot;stroke:#000000;stroke-width:5.76&quot;/&gt;\n",
       "\t&lt;line x1=&quot;701.66&quot; y1=&quot;2489.19&quot; x2=&quot;701.66&quot; y2=&quot;2529.16&quot; style=&quot;stroke:#000000;stroke-width:5.76&quot;/&gt;\n",
       "\t&lt;text x=&quot;701.66&quot; y=&quot;2619.14&quot; style=&quot;font-family:&#x27;Helvetica&#x27;;font-size:99.99px;fill:#000000&quot; text-anchor=&quot;middle&quot;&gt;2,000&lt;/text&gt;\n",
       "\t&lt;line x1=&quot;1732.99&quot; y1=&quot;2489.19&quot; x2=&quot;1732.99&quot; y2=&quot;2529.16&quot; style=&quot;stroke:#000000;stroke-width:5.76&quot;/&gt;\n",
       "\t&lt;text x=&quot;1732.99&quot; y=&quot;2619.14&quot; style=&quot;font-family:&#x27;Helvetica&#x27;;font-size:99.99px;fill:#000000&quot; text-anchor=&quot;middle&quot;&gt;3,000&lt;/text&gt;\n",
       "\t&lt;line x1=&quot;2764.33&quot; y1=&quot;2489.19&quot; x2=&quot;2764.33&quot; y2=&quot;2529.16&quot; style=&quot;stroke:#000000;stroke-width:5.76&quot;/&gt;\n",
       "\t&lt;text x=&quot;2764.33&quot; y=&quot;2619.14&quot; style=&quot;font-family:&#x27;Helvetica&#x27;;font-size:99.99px;fill:#000000&quot; text-anchor=&quot;middle&quot;&gt;4,000&lt;/text&gt;\n",
       "\t&lt;line x1=&quot;3795.66&quot; y1=&quot;2489.19&quot; x2=&quot;3795.66&quot; y2=&quot;2529.16&quot; style=&quot;stroke:#000000;stroke-width:5.76&quot;/&gt;\n",
       "\t&lt;text x=&quot;3795.66&quot; y=&quot;2619.14&quot; style=&quot;font-family:&#x27;Helvetica&#x27;;font-size:99.99px;fill:#000000&quot; text-anchor=&quot;middle&quot;&gt;5,000&lt;/text&gt;\n",
       "\t&lt;text x=&quot;2124.91&quot; y=&quot;2729.16&quot; style=&quot;font-family:&#x27;Helvetica&#x27;;font-size:99.99px;fill:#000000&quot; text-anchor=&quot;middle&quot;&gt;Weight (lbs.)&lt;/text&gt;\n",
       "\t&lt;text x=&quot;2124.91&quot; y=&quot;215.98&quot; style=&quot;font-family:&#x27;Helvetica&#x27;;font-size:139.96px;fill:#1E2D53&quot; text-anchor=&quot;middle&quot;&gt;Miles per Gallon vs Car Weight&lt;/text&gt;\n",
       "&lt;/svg&gt;\n",
       "</body></html>\"></iframe>\n"
      ],
      "text/plain": [
       "This front-end cannot display the desired image type."
      ]
     },
     "metadata": {
      "image/svg+xml": {
       "height": 436,
       "width": 600
      },
      "text/html": {
       "height": 436,
       "width": 600
      }
     },
     "output_type": "display_data"
    }
   ],
   "source": [
    "scatter mpg weight, title(\"Miles per Gallon vs Car Weight\")\n",
    "\n",
    "// Dataset with test scores\n",
    "*use \"https://stats.idre.ucla.edu/stat/stata/notes/hsb2\", clear\n",
    "*scatter read math, title(\"Reading score vs Math score\")\n",
    "*scatter math science, title(\"Math score vs Science score\")"
   ]
  },
  {
   "cell_type": "markdown",
   "metadata": {},
   "source": [
    "\\\n",
    "Soll die Abbildung lediglich erstellt, aber nicht angezeigt werden, dann kann als Befehls-Präfix [`quietly`](https://www.stata.com/help.cgi?quietly) verwendet werden."
   ]
  },
  {
   "cell_type": "code",
   "execution_count": 15,
   "metadata": {},
   "outputs": [
    {
     "name": "stdout",
     "output_type": "stream",
     "text": [
      "\n",
      "\n",
      "(note: file mpg-weight.gph not found)\n",
      "(file mpg-weight.gph saved)\n",
      "\n",
      "(file mpg-weight.png written in PNG format)\n",
      "\n",
      "(file mpg-weight.pdf written in PDF format)\n"
     ]
    }
   ],
   "source": [
    "quietly scatter mpg weight, title(\"Miles per Gallon vs Car Weight\")\n",
    "graph save mpg-weight, replace\n",
    "graph export \"mpg-weight.png\", replace\n",
    "graph export \"mpg-weight.pdf\", replace\n"
   ]
  },
  {
   "cell_type": "markdown",
   "metadata": {},
   "source": [
    "## Code kommentieren\n",
    "\n",
    "`stata_kernel` ermöglicht es, Befehle mit den gängien Zeichen zu kommentieren, d.h. mit `//`, `///`, `*`, and `/*`-`*/`."
   ]
  },
  {
   "cell_type": "code",
   "execution_count": 16,
   "metadata": {},
   "outputs": [
    {
     "name": "stdout",
     "output_type": "stream",
     "text": [
      "displayed\n"
     ]
    }
   ],
   "source": [
    "* comment\n",
    "display \"comment\"\n",
    "// display \"comment\""
   ]
  },
  {
   "cell_type": "code",
   "execution_count": 7,
   "metadata": {},
   "outputs": [
    {
     "name": "stdout",
     "output_type": "stream",
     "text": [
      "line continuation comment\n"
     ]
    }
   ],
   "source": [
    "display \"line continuation \" /// comment\n",
    "    \"comment\""
   ]
  },
  {
   "cell_type": "code",
   "execution_count": 8,
   "metadata": {},
   "outputs": [],
   "source": [
    "* display \"not displayed\""
   ]
  },
  {
   "cell_type": "code",
   "execution_count": 17,
   "metadata": {},
   "outputs": [
    {
     "name": "stdout",
     "output_type": "stream",
     "text": [
      "\n",
      "displayed1\n",
      "\n",
      "displayed3\n"
     ]
    }
   ],
   "source": [
    "display \"displayed1\"\n",
    "/*\n",
    "display \n",
    "\"displayed2\"\n",
    "*/\n",
    "display \"displayed3\""
   ]
  },
  {
   "cell_type": "markdown",
   "metadata": {},
   "source": [
    "## Autocompletion\n",
    "\n",
    "`stata_kernel` stellt autocompletion zur Verfügung für locals, globals, Variablen, scalars, and Matrizen basierend auf dem Inhalt des Speichers. Es werden auch Pfade zum Speichern und Laden von Files vogreschlagen. Drücke hierzu <kbd>Tab</kbd> während der Befehlseingabe, um autocompletion zu aktivieren.\n",
    "\n",
    "![](jupyterlab_autocompletion.png)"
   ]
  },
  {
   "cell_type": "markdown",
   "metadata": {},
   "source": [
    "## Magics\n",
    "\n",
    "[_Magics_](https://kylebarron.dev/stata_kernel/using_stata_kernel/magics/) sind spezielle Befehle, die `stata_kernel` für zusätzliche Funktionalität zur Verfügung stellt, insbesondere in Verbindung mit Jupyter. \n",
    "\n",
    "Die `Magics`-Bfehle beginnen mit `%`. Du kannst `%help magics` eingeben oder [findest hier](https://kylebarron.dev/stata_kernel/using_stata_kernel/magics/) eine Liste der verfügbaren Magics. Um das Help-File für einen Magics-Befehl zu erhalten, kann `%magic_name --help` verwendet werden.\n",
    "\n",
    "Die Magics-Befehle **müssem** zu Beginn einer Zelle aufgeführt werden."
   ]
  },
  {
   "cell_type": "markdown",
   "metadata": {},
   "source": [
    "### `%head`, `%browse`, `%tail`\n",
    "\n",
    "**`%head`**, **`%browse`**, und **`%tail`** zeigen einen formatierten Auszug des verwendeten DAtensatzes."
   ]
  },
  {
   "cell_type": "code",
   "execution_count": 25,
   "metadata": {},
   "outputs": [
    {
     "data": {
      "text/html": [
       "<div>\n",
       "<style scoped>\n",
       "    .dataframe tbody tr th:only-of-type {\n",
       "        vertical-align: middle;\n",
       "    }\n",
       "\n",
       "    .dataframe tbody tr th {\n",
       "        vertical-align: top;\n",
       "    }\n",
       "\n",
       "    .dataframe thead th {\n",
       "        text-align: right;\n",
       "    }\n",
       "</style>\n",
       "<table border=\"1\" class=\"dataframe\">\n",
       "  <thead>\n",
       "    <tr style=\"text-align: right;\">\n",
       "      <th></th>\n",
       "      <th>make</th>\n",
       "      <th>price</th>\n",
       "      <th>mpg</th>\n",
       "      <th>rep78</th>\n",
       "      <th>headroom</th>\n",
       "      <th>trunk</th>\n",
       "      <th>weight</th>\n",
       "      <th>length</th>\n",
       "      <th>turn</th>\n",
       "      <th>displacement</th>\n",
       "      <th>gear_ratio</th>\n",
       "      <th>foreign</th>\n",
       "    </tr>\n",
       "  </thead>\n",
       "  <tbody>\n",
       "    <tr>\n",
       "      <th>1</th>\n",
       "      <td>AMC Concord</td>\n",
       "      <td>4099</td>\n",
       "      <td>22</td>\n",
       "      <td>3</td>\n",
       "      <td>2.5</td>\n",
       "      <td>11</td>\n",
       "      <td>2930</td>\n",
       "      <td>186</td>\n",
       "      <td>40</td>\n",
       "      <td>121</td>\n",
       "      <td>3.5799999</td>\n",
       "      <td>Domestic</td>\n",
       "    </tr>\n",
       "    <tr>\n",
       "      <th>2</th>\n",
       "      <td>AMC Pacer</td>\n",
       "      <td>4749</td>\n",
       "      <td>17</td>\n",
       "      <td>3</td>\n",
       "      <td>3</td>\n",
       "      <td>11</td>\n",
       "      <td>3350</td>\n",
       "      <td>173</td>\n",
       "      <td>40</td>\n",
       "      <td>258</td>\n",
       "      <td>2.53</td>\n",
       "      <td>Domestic</td>\n",
       "    </tr>\n",
       "    <tr>\n",
       "      <th>3</th>\n",
       "      <td>AMC Spirit</td>\n",
       "      <td>3799</td>\n",
       "      <td>22</td>\n",
       "      <td>.</td>\n",
       "      <td>3</td>\n",
       "      <td>12</td>\n",
       "      <td>2640</td>\n",
       "      <td>168</td>\n",
       "      <td>35</td>\n",
       "      <td>121</td>\n",
       "      <td>3.0799999</td>\n",
       "      <td>Domestic</td>\n",
       "    </tr>\n",
       "    <tr>\n",
       "      <th>4</th>\n",
       "      <td>Buick Century</td>\n",
       "      <td>4816</td>\n",
       "      <td>20</td>\n",
       "      <td>3</td>\n",
       "      <td>4.5</td>\n",
       "      <td>16</td>\n",
       "      <td>3250</td>\n",
       "      <td>196</td>\n",
       "      <td>40</td>\n",
       "      <td>196</td>\n",
       "      <td>2.9300001</td>\n",
       "      <td>Domestic</td>\n",
       "    </tr>\n",
       "    <tr>\n",
       "      <th>5</th>\n",
       "      <td>Buick Electra</td>\n",
       "      <td>7827</td>\n",
       "      <td>15</td>\n",
       "      <td>4</td>\n",
       "      <td>4</td>\n",
       "      <td>20</td>\n",
       "      <td>4080</td>\n",
       "      <td>222</td>\n",
       "      <td>43</td>\n",
       "      <td>350</td>\n",
       "      <td>2.4100001</td>\n",
       "      <td>Domestic</td>\n",
       "    </tr>\n",
       "  </tbody>\n",
       "</table>\n",
       "</div>"
      ],
      "text/plain": [
       "\n",
       "     +------------------------------------------------------------------------------------------------------------------+\n",
       "     | make            price   mpg   rep78   headroom   trunk   weight   length   turn   displa~t   gear_r~o    foreign |\n",
       "     |------------------------------------------------------------------------------------------------------------------|\n",
       "  1. | AMC Concord     4,099    22       3        2.5      11    2,930      186     40        121       3.58   Domestic |\n",
       "  2. | AMC Pacer       4,749    17       3        3.0      11    3,350      173     40        258       2.53   Domestic |\n",
       "  3. | AMC Spirit      3,799    22       .        3.0      12    2,640      168     35        121       3.08   Domestic |\n",
       "  4. | Buick Century   4,816    20       3        4.5      16    3,250      196     40        196       2.93   Domestic |\n",
       "  5. | Buick Electra   7,827    15       4        4.0      20    4,080      222     43        350       2.41   Domestic |\n",
       "     +------------------------------------------------------------------------------------------------------------------+\n",
       "\n"
      ]
     },
     "metadata": {},
     "output_type": "display_data"
    }
   ],
   "source": [
    "%head 5"
   ]
  },
  {
   "cell_type": "markdown",
   "metadata": {},
   "source": [
    "### `%help`\n",
    "**`%help`** zeigt das Hilfemenü zu einem bestimmten Befehl. Die Links sind klickbar wie in der offiziellen Stata Dokumentation (setzt Internetzugnag voraus), wobei sich das PDF und damit das detaillierte Help-File nicht direkt als PDF öffnen lässt ."
   ]
  },
  {
   "cell_type": "code",
   "execution_count": 20,
   "metadata": {},
   "outputs": [
    {
     "data": {
      "text/html": [
       "\n",
       "<html>\n",
       "<head>\n",
       "<meta content=\"noindex, nofollow\" name=\"robots\"/>\n",
       "<title>Stata 16 help for summarize</title>\n",
       "<link href=\"//www.stata.com/includes/css/stylehelp.css\" rel=\"stylesheet\" type=\"text/css\"/>\n",
       "<style type=\"text/css\">h2 {\n",
       "    font-family: Arial,Helvetica,Helv,sans-serif;\n",
       "    color: #000000;\n",
       "}\n",
       "\n",
       "pre {\n",
       "    margin: 10px;\n",
       "}\n",
       "\n",
       "table {\n",
       "    background-color: transparent;\n",
       "    border-color: transparent;\n",
       "    bgcolor: transparent;\n",
       "}\n",
       "\n",
       "tr {\n",
       "    background-color: transparent;\n",
       "    border-color: transparent;\n",
       "    bgcolor: transparent;\n",
       "}\n",
       "\n",
       "body {\n",
       "    background-color: transparent;\n",
       "    border-color: transparent;\n",
       "    margin: 0px;\n",
       "}\n",
       "\n",
       "div {\n",
       "    background-color: transparent;\n",
       "    border-color: transparent;\n",
       "}\n",
       "</style>\n",
       "</head>\n",
       "<body>\n",
       "\n",
       "<p>\n",
       "<table align=\"center\" bgcolor=\"transparent\" border=\"1\" cellpadding=\"5\" cellspacing=\"0\">\n",
       "<tr bgcolor=\"transparent\"><td align=\"left\" bgcolor=\"transparent\" valign=\"top\">\n",
       "<!-- END HEAD -->\n",
       "\n",
       "<pre>\n",
       "<p>\n",
       "<b>[R] summarize</b> -- Summary statistics\n",
       "<p>\n",
       "<p>\n",
       "<a name=\"syntax\"></a><b><u>Syntax</u></b>\n",
       "<p>\n",
       "        <b><u>su</u></b><b>mmarize</b> [<a href=\"https://www.stata.com/help.cgi?varlist\" target=\"_blank\"><i>varlist</i></a>] [<a href=\"https://www.stata.com/help.cgi?if\" target=\"_blank\"><i>if</i></a>] [<a href=\"https://www.stata.com/help.cgi?in\" target=\"_blank\"><i>in</i></a>] [<a href=\"#weight\"><i>weight</i></a>] [<b>,</b> <i>options</i>]\n",
       "<p>\n",
       "    <i>options</i>           Description\n",
       "    -------------------------------------------------------------------------\n",
       "    Main\n",
       "      <b><u>d</u></b><b>etail</b>          display additional statistics\n",
       "      <b><u>mean</u></b><b>only</b>        suppress the display; calculate only the mean;\n",
       "                        programmer's option\n",
       "      <b><u>f</u></b><b>ormat</b>          use variable's display format\n",
       "      <b><u>sep</u></b><b>arator(</b><i>#</i><b>)</b>    draw separator line after every <i>#</i> variables; default is\n",
       "                        <b>separator(5)</b>\n",
       "      <a href=\"#display_options\"><i>display_options</i></a> control spacing, line width, and base and empty cells\n",
       "<p>\n",
       "    -------------------------------------------------------------------------\n",
       "    <i>varlist</i> may contain factor variables; see <a href=\"https://www.stata.com/help.cgi?fvvarlist\" target=\"_blank\">fvvarlist</a>.\n",
       "    <i>varlist</i> may contain time-series operators; see <a href=\"https://www.stata.com/help.cgi?tsvarlist\" target=\"_blank\">tsvarlist</a>.\n",
       "    <b>by</b>, <b>rolling</b>, and <b>statsby</b> are allowed; see <a href=\"https://www.stata.com/help.cgi?prefix\" target=\"_blank\">prefix</a>.\n",
       "<a name=\"weight\"></a>  \n",
       "    <b>aweight</b>s, <b>fweight</b>s, and <b>iweight</b>s are allowed.  However, <b>iweight</b>s may not\n",
       "      be used with the <b>detail</b> option; see <a href=\"https://www.stata.com/help.cgi?weight\" target=\"_blank\">weight</a>.\n",
       "<p>\n",
       "<p>\n",
       "<a name=\"menu\"></a><b><u>Menu</u></b>\n",
       "<p>\n",
       "    <b>Statistics &gt; Summaries, tables, and tests &gt;</b> <b>Summary and descriptive</b>\n",
       "        <b>statistics &gt; Summary statistics</b>\n",
       "<p>\n",
       "<p>\n",
       "<a name=\"description\"></a><b><u>Description</u></b>\n",
       "<p>\n",
       "    <b>summarize</b> calculates and displays a variety of univariate summary\n",
       "    statistics.  If no <a href=\"https://www.stata.com/help.cgi?varlist\" target=\"_blank\"><i>varlist</i></a> is specified, summary statistics are\n",
       "    calculated for all the variables in the dataset.\n",
       "<p>\n",
       "<p>\n",
       "<a name=\"options\"></a><b><u>Options</u></b>\n",
       "<p>\n",
       "        +------+\n",
       "    ----+ Main +-------------------------------------------------------------\n",
       "<p>\n",
       "    <b>detail</b> produces additional statistics, including skewness, kurtosis, the\n",
       "        four smallest and four largest values, and various percentiles.\n",
       "<p>\n",
       "    <b>meanonly</b>, which is allowed only when <b>detail</b> is not specified, suppresses\n",
       "        the display of results and calculation of the variance.  Ado-file\n",
       "        writers will find this useful for fast calls.\n",
       "<p>\n",
       "    <b>format</b> requests that the summary statistics be displayed using the\n",
       "        display formats associated with the variables rather than the default\n",
       "        <b>g</b> display format; see <a href=\"https://www.stata.com/help.cgi?format\" target=\"_blank\"><b>[D] format</b></a>.\n",
       "<p>\n",
       "    <b>separator(</b><i>#</i><b>)</b> specifies how often to insert separation lines into the\n",
       "        output.  The default is <b>separator(5)</b>, meaning that a line is drawn\n",
       "        after every five variables.  <b>separator(10)</b> would draw a line after\n",
       "        every 10 variables.  <b>separator(0)</b> suppresses the separation line.\n",
       "<p>\n",
       "<a name=\"display_options\"></a>    <i>display_options</i>:  <b>vsquish</b>, <b><u>noempty</u></b><b>cells</b>, <b><u>base</u></b><b>levels</b>, <b><u>allbase</u></b><b>levels</b>,\n",
       "        <b><u>nofvlab</u></b><b>el</b>, <b>fvwrap(</b><i>#</i><b>)</b>, and <b>fvwrapon(</b><i>style</i><b>)</b>; see <a href=\"https://www.stata.com/help.cgi?estimation%2Boptions%23display_options\" target=\"_blank\"><b>[R] Estimation</b></a>\n",
       "        <a href=\"https://www.stata.com/help.cgi?estimation%2Boptions%23display_options\" target=\"_blank\"><b>options</b></a>.\n",
       "<p>\n",
       "<p>\n",
       "<a name=\"examples\"></a><b><u>Examples</u></b>\n",
       "<p>\n",
       "    <b>. sysuse auto</b>\n",
       "    <b>. summarize</b>\n",
       "    <b>. summarize mpg weight</b>\n",
       "    <b>. summarize mpg weight if foreign</b>\n",
       "    <b>. summarize mpg weight if foreign, detail</b>\n",
       "    <b>. summarize i.rep78</b>\n",
       "<p>\n",
       "<p>\n",
       "<a name=\"video\"></a><b><u>Video example</u></b>\n",
       "<p>\n",
       "    Descriptive statistics in Stata\n",
       "<p>\n",
       "<p>\n",
       "<a name=\"results\"></a><b><u>Stored results</u></b>\n",
       "<p>\n",
       "    <b>summarize</b> stores the following in <b>r()</b>:\n",
       "<p>\n",
       "    Scalars   \n",
       "      <b>r(N)</b>           number of observations\n",
       "      <b>r(mean)</b>        mean\n",
       "      <b>r(skewness)</b>    skewness (<b>detail</b> only)\n",
       "      <b>r(min)</b>         minimum\n",
       "      <b>r(max)</b>         maximum\n",
       "      <b>r(sum_w)</b>       sum of the weights\n",
       "      <b>r(p1)</b>          1st percentile (<b>detail</b> only)\n",
       "      <b>r(p5)</b>          5th percentile (<b>detail</b> only)\n",
       "      <b>r(p10)</b>         10th percentile (<b>detail</b> only)\n",
       "      <b>r(p25)</b>         25th percentile (<b>detail</b> only)\n",
       "      <b>r(p50)</b>         50th percentile (<b>detail</b> only)\n",
       "      <b>r(p75)</b>         75th percentile (<b>detail</b> only)\n",
       "      <b>r(p90)</b>         90th percentile (<b>detail</b> only)\n",
       "      <b>r(p95)</b>         95th percentile (<b>detail</b> only)\n",
       "      <b>r(p99)</b>         99th percentile (<b>detail</b> only)\n",
       "      <b>r(Var)</b>         variance\n",
       "      <b>r(kurtosis)</b>    kurtosis (<b>detail</b> only)\n",
       "      <b>r(sum)</b>         sum of variable\n",
       "      <b>r(sd)</b>          standard deviation\n",
       "<p>\n",
       "</p></p></p></p></p></p></p></p></p></p></p></p></p></p></p></p></p></p></p></p></p></p></p></p></p></p></p></p></p></p></p></pre>\n",
       "<!-- BEGIN FOOT -->\n",
       "</td></tr></table>\n",
       "\n",
       "\n",
       "<br/>\n",
       "</p></body>\n",
       "</html>\n"
      ],
      "text/plain": [
       "This front-end cannot display HTML help."
      ]
     },
     "metadata": {},
     "output_type": "display_data"
    }
   ],
   "source": [
    "%help summarize"
   ]
  },
  {
   "cell_type": "markdown",
   "metadata": {},
   "source": [
    "### `%locals`, `%globals`\n",
    "\n",
    "**`%locals`** und **`%globals`** zeigen die local oder global macros der aktuellen Sitzung."
   ]
  },
  {
   "cell_type": "code",
   "execution_count": 12,
   "metadata": {},
   "outputs": [],
   "source": [
    "local local1 \"foo\"\n",
    "local local2 \"bar\"\n",
    "local abcd \"foo bar\""
   ]
  },
  {
   "cell_type": "code",
   "execution_count": 13,
   "metadata": {},
   "outputs": [
    {
     "name": "stdout",
     "output_type": "stream",
     "text": [
      "abcd:   foo bar\n",
      "local2: bar\n",
      "local1: foo\n"
     ]
    }
   ],
   "source": [
    "%locals"
   ]
  },
  {
   "cell_type": "code",
   "execution_count": 14,
   "metadata": {},
   "outputs": [
    {
     "name": "stdout",
     "output_type": "stream",
     "text": [
      "local2: bar\n",
      "local1: foo\n"
     ]
    }
   ],
   "source": [
    "%locals loc"
   ]
  },
  {
   "cell_type": "code",
   "execution_count": 15,
   "metadata": {},
   "outputs": [
    {
     "name": "stdout",
     "output_type": "stream",
     "text": [
      "(note: showing first line of global values; run with --verbose)\n",
      "\n",
      "T_gm_fix_span:              0\n",
      "stata_kernel_graph_counter: 2\n",
      "S_FNDATE:                   17 Jun 2002 08:48\n",
      "S_FN:                       https://stats.idre.ucla.edu/stat/stata/notes/hsb2.dta\n",
      "S_ADO:                      BASE;SITE;.;PERSONAL;PLUS;OLDPLACE;`\"/Users/kyle/github/stata/stata-kernel/stata_kernel/ado\"'\n",
      "S_level:                    95\n",
      "F1:                         help advice;\n",
      "F2:                         describe;\n",
      "F7:                         save\n",
      "F8:                         use\n",
      "S_StataSE:                  SE\n",
      "S_CONSOLE:                  console\n",
      "S_FLAVOR:                   Intercooled\n",
      "S_OS:                       Unix\n",
      "S_MACH:                     Macintosh (Intel 64-bit)\n"
     ]
    }
   ],
   "source": [
    "%globals"
   ]
  },
  {
   "cell_type": "markdown",
   "metadata": {},
   "source": [
    "### `%html`, `%latex`\n",
    "\n",
    "**`%html`** or **`%latex`** attempt to display either type of _output_ (not user input). This could be used, for example, with `estout` to display several regression results side-by-side.\n",
    "\n",
    "**Note:** Jupyter can display a math subset of LaTeX but doesn't support tables. _However_, it's really easy to export a Jupyter Notebook file to PDF through LaTeX (see File > Export Notebook As > Export Notebook to PDF). In this PDF export, LaTeX tables _will_ be properly displayed."
   ]
  },
  {
   "cell_type": "code",
   "execution_count": 26,
   "metadata": {},
   "outputs": [
    {
     "name": "stdout",
     "output_type": "stream",
     "text": [
      "\n",
      "\n",
      "(1978 Automobile Data)\n",
      "\n",
      "\n",
      "(est1 stored)\n",
      "\n",
      "(est2 stored)\n",
      "\n",
      "(est3 stored)\n"
     ]
    }
   ],
   "source": [
    "cap ssc install estout\n",
    "sysuse auto, clear\n",
    "eststo clear\n",
    "eststo: qui regress price mpg rep78\n",
    "eststo: qui regress price mpg rep78 gear_ratio trunk\n",
    "eststo: qui regress price mpg rep78 gear_ratio trunk weight displacement"
   ]
  },
  {
   "cell_type": "code",
   "execution_count": 27,
   "metadata": {},
   "outputs": [
    {
     "data": {
      "text/html": [
       "\n",
       "<table border=\"0\" width=\"*\">\n",
       "<caption>Regression Table</caption>\n",
       "<tr><td colspan=4><hr></td></tr>\n",
       "<tr><td>                    </td><td>         (1)              </td><td>         (2)              </td><td>         (3)              </td></tr>\n",
       "<tr><td>                    </td><td>       Price              </td><td>       Price              </td><td>       Price              </td></tr>\n",
       "<tr><td colspan=4><hr></td></tr>\n",
       "<tr><td>Mileage (mpg)       </td><td>      -271.6<sup>***</sup></td><td>      -206.3<sup>*</sup>  </td><td>      -76.96              </td></tr>\n",
       "<tr><td>                    </td><td>     (-4.70)              </td><td>     (-2.65)              </td><td>     (-0.92)              </td></tr>\n",
       "<tr><td colspan=4>&nbsp;</td></tr>\n",
       "<tr><td>Repair Record 1978  </td><td>       667.0              </td><td>       767.1<sup>*</sup>  </td><td>       899.1<sup>**</sup> </td></tr>\n",
       "<tr><td>                    </td><td>      (1.95)              </td><td>      (2.17)              </td><td>      (2.76)              </td></tr>\n",
       "<tr><td colspan=4>&nbsp;</td></tr>\n",
       "<tr><td>Gear Ratio          </td><td>                          </td><td>     -1289.9              </td><td>      1479.7              </td></tr>\n",
       "<tr><td>                    </td><td>                          </td><td>     (-1.38)              </td><td>      (1.30)              </td></tr>\n",
       "<tr><td colspan=4>&nbsp;</td></tr>\n",
       "<tr><td>Trunk space (cu. ft.)</td><td>                          </td><td>       12.49              </td><td>      -110.3              </td></tr>\n",
       "<tr><td>                    </td><td>                          </td><td>      (0.14)              </td><td>     (-1.23)              </td></tr>\n",
       "<tr><td colspan=4>&nbsp;</td></tr>\n",
       "<tr><td>Weight (lbs.)       </td><td>                          </td><td>                          </td><td>       1.140              </td></tr>\n",
       "<tr><td>                    </td><td>                          </td><td>                          </td><td>      (1.00)              </td></tr>\n",
       "<tr><td colspan=4>&nbsp;</td></tr>\n",
       "<tr><td>Displacement (cu. in.)</td><td>                          </td><td>                          </td><td>       17.82              </td></tr>\n",
       "<tr><td>                    </td><td>                          </td><td>                          </td><td>      (1.88)              </td></tr>\n",
       "<tr><td colspan=4>&nbsp;</td></tr>\n",
       "<tr><td>Constant            </td><td>      9657.8<sup>***</sup></td><td>     11620.1<sup>***</sup></td><td>     -5163.3              </td></tr>\n",
       "<tr><td>                    </td><td>      (7.17)              </td><td>      (3.65)              </td><td>     (-0.94)              </td></tr>\n",
       "<tr><td colspan=4><hr></td></tr>\n",
       "<tr><td>Observations        </td><td>          69              </td><td>          69              </td><td>          69              </td></tr>\n",
       "<tr><td colspan=4><hr></td></tr>\n",
       "<tr><td colspan=4>\n",
       "<i>t</i> statistics in parentheses\n",
       "<br /><sup>*</sup> <i>p</i> < 0.05, <sup>**</sup> <i>p</i> < 0.01, <sup>***</sup> <i>p</i> < 0.001\n",
       "</td></tr>\n",
       "</table>\n",
       "\n"
      ],
      "text/plain": [
       "This front-end or document format cannot display HTML"
      ]
     },
     "metadata": {},
     "output_type": "display_data"
    }
   ],
   "source": [
    "%html\n",
    "esttab, label title(\"Regression Table\") html"
   ]
  },
  {
   "cell_type": "markdown",
   "metadata": {},
   "source": [
    "### `%show_gui`, `%hide_gui`\n",
    "\n",
    "On Windows, **`%show_gui`** and **`%hide_gui`** show and hide the traditional Stata Graphical User Interface window. These magics do not work on macOS or Linux because those platforms communicate with Stata in a different manner."
   ]
  },
  {
   "cell_type": "code",
   "execution_count": 31,
   "metadata": {},
   "outputs": [],
   "source": [
    "%show_gui"
   ]
  },
  {
   "cell_type": "markdown",
   "metadata": {},
   "source": [
    "## `;`-delimited commands\n",
    "\n",
    "Often with long commands, such as graphs, using [`#delimit ;`](https://www.stata.com/help.cgi?delimit) helps prevent very long lines and helps to keep code more readable. This is supported in `stata_kernel`, despite it not being allowed in the normal Stata command-line environment."
   ]
  },
  {
   "cell_type": "code",
   "execution_count": 18,
   "metadata": {},
   "outputs": [
    {
     "name": "stdout",
     "output_type": "stream",
     "text": [
      "(1978 Automobile Data)\n"
     ]
    }
   ],
   "source": [
    "sysuse auto, clear"
   ]
  },
  {
   "cell_type": "code",
   "execution_count": 19,
   "metadata": {},
   "outputs": [
    {
     "name": "stdout",
     "output_type": "stream",
     "text": [
      "Hello, world!\n",
      "delimiter now ;"
     ]
    }
   ],
   "source": [
    "#delimit ;\n",
    "display \"Hello, world!\";"
   ]
  },
  {
   "cell_type": "markdown",
   "metadata": {},
   "source": [
    "It's important to note that the `;`-delimiter mode persists across cells. `stata_kernel` will expect cells to include `;` for each command, and will raise an error if `;` is missing."
   ]
  },
  {
   "cell_type": "code",
   "execution_count": 20,
   "metadata": {},
   "outputs": [
    {
     "name": "stderr",
     "output_type": "stream",
     "text": [
      "stata_kernel error: code entered was incomplete.\n",
      "\n",
      "This usually means that a loop or program was not correctly terminated.\n",
      "This can also happen if you are in `#delimit ;` mode and did not end the\n",
      "command with `;`. Use `%delimit` to see the current delimiter mode and\n",
      "use `#delimit cr` to switch back to the default mode where `;` is\n",
      "unnecessary.\n"
     ]
    }
   ],
   "source": [
    "display \"Hello, world!\""
   ]
  },
  {
   "cell_type": "markdown",
   "metadata": {},
   "source": [
    "You can check the current delimiter with the **`%delimit`** magic."
   ]
  },
  {
   "cell_type": "code",
   "execution_count": 21,
   "metadata": {},
   "outputs": [
    {
     "name": "stdout",
     "output_type": "stream",
     "text": [
      "The delimiter is currently: ;\n"
     ]
    }
   ],
   "source": [
    "%delimit"
   ]
  },
  {
   "cell_type": "markdown",
   "metadata": {},
   "source": [
    "You can switch back to normal line-break delimited commands (i.e. where `;` is unnecessary) with `#delimit cr`."
   ]
  },
  {
   "cell_type": "code",
   "execution_count": 22,
   "metadata": {},
   "outputs": [
    {
     "name": "stdout",
     "output_type": "stream",
     "text": [
      "delimiter now cr"
     ]
    }
   ],
   "source": [
    "#delimit cr"
   ]
  },
  {
   "cell_type": "markdown",
   "metadata": {},
   "source": [
    "## Using Mata\n",
    "\n",
    "You can start an interactive Mata session by typing `mata`. This persists across cells; cells will continue being Mata cells until you run `end` to exit the mata session.\n",
    "\n",
    "You can run the **`%status`** magic to check if you're in Mata or Stata mode."
   ]
  },
  {
   "cell_type": "code",
   "execution_count": 23,
   "metadata": {},
   "outputs": [
    {
     "name": "stdout",
     "output_type": "stream",
     "text": [
      "(1978 Automobile Data)\n"
     ]
    }
   ],
   "source": [
    "sysuse auto, clear"
   ]
  },
  {
   "cell_type": "code",
   "execution_count": 24,
   "metadata": {},
   "outputs": [
    {
     "name": "stdout",
     "output_type": "stream",
     "text": [
      "------------------------------------------------- mata (type end to exit) -------------------------------------------------------------------------------------------------------------------------------------------------------------------------------------\n"
     ]
    }
   ],
   "source": [
    "mata"
   ]
  },
  {
   "cell_type": "code",
   "execution_count": 25,
   "metadata": {},
   "outputs": [
    {
     "name": "stdout",
     "output_type": "stream",
     "text": [
      "stata_kernel 1.9.0 for Stata 15.1\n",
      "\n",
      "\n",
      "\tDelimiter:   cr\n",
      "\tEnvironment: Mata\n"
     ]
    }
   ],
   "source": [
    "%status"
   ]
  },
  {
   "cell_type": "code",
   "execution_count": 26,
   "metadata": {},
   "outputs": [],
   "source": [
    "y    = st_data(., \"price\")\n",
    "X    = st_data(., \"mpg trunk\")\n",
    "n    = rows(X)\n",
    "X    = X,J(n,1,1)\n",
    "XpX  = quadcross(X, X)\n",
    "XpXi = invsym(XpX)\n",
    "b    = XpXi*quadcross(X, y)"
   ]
  },
  {
   "cell_type": "code",
   "execution_count": 27,
   "metadata": {},
   "outputs": [
    {
     "name": "stdout",
     "output_type": "stream",
     "text": [
      "                  1              2              3\n",
      "    +----------------------------------------------+\n",
      "  1 |  -220.1648801    43.55851009    10254.94983  |\n",
      "    +----------------------------------------------+\n"
     ]
    }
   ],
   "source": [
    "b'"
   ]
  },
  {
   "cell_type": "code",
   "execution_count": 28,
   "metadata": {},
   "outputs": [
    {
     "name": "stdout",
     "output_type": "stream",
     "text": [
      "\n",
      "---------------------------------------------------------------------------------------------------------------------------------------------------------------------------------------------------------------------------------------------------------------\n"
     ]
    }
   ],
   "source": [
    "end"
   ]
  },
  {
   "cell_type": "code",
   "execution_count": 29,
   "metadata": {},
   "outputs": [
    {
     "name": "stdout",
     "output_type": "stream",
     "text": [
      "stata_kernel 1.9.0 for Stata 15.1\n",
      "\n",
      "\n",
      "\tDelimiter:   cr\n",
      "\tEnvironment: Stata\n"
     ]
    }
   ],
   "source": [
    "%status"
   ]
  },
  {
   "cell_type": "code",
   "execution_count": null,
   "metadata": {},
   "outputs": [],
   "source": []
  }
 ],
 "metadata": {
  "kernelspec": {
   "display_name": "Stata",
   "language": "stata",
   "name": "stata"
  },
  "language_info": {
   "codemirror_mode": "stata",
   "file_extension": ".do",
   "mimetype": "text/x-stata",
   "name": "stata",
   "version": "15.1"
  },
  "toc": {
   "colors": {
    "hover_highlight": "#DAA520",
    "running_highlight": "#FF0000",
    "selected_highlight": "#FFD700"
   },
   "moveMenuLeft": true,
   "nav_menu": {
    "height": "464px",
    "width": "252px"
   },
   "navigate_menu": true,
   "number_sections": false,
   "sideBar": true,
   "threshold": 4,
   "toc_cell": false,
   "toc_section_display": "block",
   "toc_window_display": false
  }
 },
 "nbformat": 4,
 "nbformat_minor": 4
}
